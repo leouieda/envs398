{
 "cells": [
  {
   "cell_type": "markdown",
   "metadata": {},
   "source": [
    "# Lab 2: Flexure of the oceanic lithosphere under island chains \n",
    "\n",
    "In this lab, we will solve the plate flexure equation for an ocean island load numerically using finite-differences. We will compare the model results to read data from Hawai'i and estimate the effective elastic thickness of the Pacific plate underneath the islands.\n",
    "\n",
    "Learning objectives:\n",
    "\n",
    "* Build on the theorical knowledge acquired in [Lecture 2](https://www.leouieda.com/envs398/slides/2-isostasy/).\n",
    "* Learn how to apply the finite-difference method to solve partial differential equations.\n",
    "* Gain a practical understanding of plate flexure.\n",
    "\n",
    "\n",
    "## General instructions\n",
    "\n",
    "This is a [Jupyter notebook](https://jupyter.org/) running in [Jupyter Lab](https://jupyterlab.readthedocs.io/en/stable/). The notebook is a programming environment that mixes code (the parts with `[1]: ` or similar next to them) and formatted text/images/equations with [Markdown](https://www.markdownguide.org/basic-syntax) (like this part right here).\n",
    "\n",
    "Quick start guide:\n",
    "\n",
    "* **Edit** any cell (blocks of code or text) by double clicking on it.\n",
    "* **Execute** a code or Markdown cell by typing `Shift + Enter` after selecting it.\n",
    "* The current active cell is the one with a **blue bar next to it**.\n",
    "* You can run cells **in any order** as long as the code sequence makes sense (it's best to go top-to-bottom, though).\n",
    "* To copy any file to the current directory, drag and drop it to the file browser on the left side.\n",
    "* Notebook files have the extension `.ipynb`."
   ]
  },
  {
   "cell_type": "markdown",
   "metadata": {},
   "source": [
    "## The plate flexure equation\n",
    "\n",
    "The equation describing the flexure ($w$) of an elastic plate subject to a vertical load is:\n",
    "\n",
    "$ D\\dfrac{\\partial^4 w}{\\partial x^4} = q(x) - (\\rho_m - \\rho_w) g w $\n",
    "\n",
    "in which $w$ is the flexure (how much the plate bends up or down), $x$ is the position, $D$ is the flexural rigidity of the plate, $rho_c$ and $rho_m$ are the crust and mantle densities, $g$ is gravity (for these purposes, assume $9.8\\ m/s^2$), and $q(x)$ is a force density applied by the load on the plate (the weight of the topography). The term $(\\rho_m - \\rho_w) g w$ is the restoring hydrostatic force (buoyancy) from replacing mantle material at depth with water on top because of the flexure.\n",
    "\n",
    "One of the the assumptions we're taking here is that the lithosphere has a density $\\rho_m$ same as the underlying mantle. So we're effectively disregarding the crustal part of the lithosphere. \n",
    "\n",
    "The flexural rigidity can be described in terms of the plate's elastic parameters:\n",
    "\n",
    "$D = \\dfrac{E T_e^3}{12(1 - \\nu^2)}$\n",
    "\n",
    "$E$ is [Young's modulus](https://en.wikipedia.org/wiki/Young's_modulus), $\\nu$ is [Poisson's ratio](https://en.wikipedia.org/wiki/Poisson's_ratio), and $T_e$ is the *effective elastic thickness* (the reference books use $h$ for this but $T_e$ is very common in the literature).\n",
    "\n",
    "The **load force per unit area** $q(x)$ is the weight of the load applied on the lithosphere. For a load of height $h$ and density $\\rho_c$, the weight per unit area is (negative because the force is applied downwards):\n",
    "\n",
    "$q(x) = -g \\rho_c h(x)$\n",
    "\n",
    "**Note:** For a detailed derivation of these equations and analytical solutions, see \"Chapter 3: Elasticity and Flexure\" of \"Geodynamics\" by Turcotte and Schubert."
   ]
  },
  {
   "cell_type": "markdown",
   "metadata": {},
   "source": [
    "## Boundary conditions\n",
    "\n",
    "We need to consider the appropriate boundary conditions for the loading of the oceanic lithosphere by an island chain. If we assume that the load is applied at the middle of the plate, we can consider the boundaries as stable lithosphere under no load. In that case, we don't expect to see any flexure at the boundaries:\n",
    "\n",
    "$w(x=0) = 0$ and $w(x=x_{max}) = 0$\n",
    "\n",
    "We also need to imposed conditions on the derivative of $w$. If there is no flexure, we can also assume that the first derivative of flexure is zero (the plate approaches the boundaries horizontally, not at an angle):\n",
    "\n",
    "$\\dfrac{\\partial w}{\\partial x}(x=0) = 0$ and $\\dfrac{\\partial w}{\\partial x}(x=x_{max}) = 0$"
   ]
  },
  {
   "cell_type": "markdown",
   "metadata": {},
   "source": [
    "## Finite-difference solution\n",
    "\n",
    "The finite-difference method is a way of calculating an approximate solution to partial differential equations. Numerical solutions allows us to solve problems for complex sources and mediums for which analytical solutions might not have been found.\n",
    "\n",
    "Remembering our calculus, the derivative is defined as:\n",
    "\n",
    "$\\dfrac{\\partial w}{\\partial x}(x) = \\lim_{\\Delta x \\to 0} \\dfrac{w(x + \\Delta x) - w(x)}{\\Delta x}$\n",
    "\n",
    "The main concept for finite-differences is approximating the derivative by eliminating the limit above and assuming that $\\Delta x$ is sufficiently small:\n",
    "\n",
    "$\\dfrac{\\partial w}{\\partial x}(x) \\approx \\dfrac{w(x + \\Delta x) - w(x)}{\\Delta x}$\n",
    "\n",
    "The numerical process involves discretizing the continuous value $w(x)$ into evenly spaced points $w_0, w_1, \\ldots, w_{N-1}$ with $\\Delta x$ spacing between them. In that case, the first derivative between points $w_0$ and $w_1$ can be approximated by:\n",
    "\n",
    "$\\dfrac{\\partial w}{\\partial x}(x_0) \\approx \\dfrac{w_1 - w_0}{\\Delta x}$\n",
    "\n",
    "Propagating this to other higher order derivatives: \n",
    "\n",
    "![Finite-differences for up to fourth order derivatives.](https://github.com/leouieda/envs398/raw/master/labs/figures/finite-differences-grid.png)\n",
    "\n",
    "With finite-differences, we can calculate the derivative at $x_2$ from values of $w$ in the 5 points around $x_2$.\n",
    "\n",
    "Using this formulation, the flexure equation in finite-differences form is:\n",
    "\n",
    "$ \n",
    "D \\dfrac{w_{i+2} - 4w_{i+1} + 6w_i - 4w_{i-1} + w_{i-2}}{\\Delta x^4} = q_i - (\\rho_m - \\rho_w) g w_i\n",
    "$\n",
    "\n",
    "Here, we're using $w_i$ to represent the flexure at an arbitrary node in the grid. Notice that we have discretized the load $q(x)$ at the same locations as well to get $q_i$.\n",
    "\n",
    "The **boundary conditions** also need to be converted to discrete finite-differences:\n",
    "\n",
    "$w_0 = 0$ and $w_{N-1} = 0$\n",
    "\n",
    "$\\dfrac{w_1- w_0}{\\Delta x} = 0$ and $\\dfrac{w_{N-1} - w_{N-2}}{\\Delta x} = 0$."
   ]
  },
  {
   "cell_type": "markdown",
   "metadata": {},
   "source": [
    "## Solving for $w$\n",
    "\n",
    "**The flexure $w$ is what we want to calculate so they are the unknowns in this equation.** So we can re-arange the equation above to isolate the $w$ on the left-hand side of the equation and any term not containing $w$ on the other. Also eliminate the division to make our lives easier. \n",
    "\n",
    "$ \n",
    "D w_{i+2} - 4 D w_{i+1} + \\left[6D + \\Delta x^4 (\\rho_m - \\rho_w) g\\right] w_i - 4 D w_{i-1} + D w_{i-2} = \\Delta x^4 q_i\n",
    "$\n",
    "\n",
    "Since we have values of $w$ for multiple values of $i$, we can form an equation system (with the boundary conditions as well):\n",
    "\n",
    "$\n",
    "\\begin{align*}\n",
    "  D w_{4} - 4 D w_{3} + \\left[6D + \\Delta x^4 (\\rho_m - \\rho_w) g\\right] w_2 - 4 D w_{1} + D w_{0} &= \\Delta x^4 q_2  \\\\ \n",
    "  D w_{5} - 4 D w_{4} + \\left[6D + \\Delta x^4 (\\rho_m - \\rho_w) g\\right] w_3 - 4 D w_{2} + D w_{1} &= \\Delta x^4 q_3  \\\\ \n",
    "  \\vdots & \\\\\n",
    "  D w_{i+4} - 4 D w_{i+3} + \\left[6D + \\Delta x^4 (\\rho_m - \\rho_w) g\\right] w_{i+2} - 4 D w_{i+1} + D w_{i} &= \\Delta x^4 q_{i+2}  \\\\ \n",
    "  \\vdots & \\\\\n",
    "  D w_{N-1} - 4 D w_{N-2} + \\left[6D + \\Delta x^4 (\\rho_m - \\rho_w) g\\right] w_{N-3} - 4 D w_{N-4} + D w_{N-5} &= \\Delta x^4 q_{N-3} \\\\\n",
    "  w_0 &= 0  \\\\\n",
    "  w_{N-1} &= 0  \\\\\n",
    "  w_1 - w_0 &= 0  \\\\\n",
    "  w_{N-1} - w_{N-2} &= 0 \n",
    "\\end{align*}\n",
    "$\n",
    "\n",
    "With this system, we have $N$ unknowns and $N$ equations ($N-4$ for the flexure equation and $4$ for the boundary conditions). **Solving the system will give us the flexure ($w$) for a given load $q$.**\n",
    "\n",
    "Another way of writing this equation system is using a matrix notation:\n",
    "\n",
    "$\n",
    "\\begin{bmatrix}\n",
    "  D  & -4D & \\left[6D + \\Delta x^4 (\\rho_m - \\rho_w) g\\right] & -4D & D & 0 & 0 & \\ldots & 0 & 0 \\\\ \n",
    "  0 & D  & -4D & \\left[6D + \\Delta x^4 (\\rho_m - \\rho_w) g\\right] & -4D & D & 0 & \\ldots & 0 & 0 \\\\ \n",
    "  \\vdots & \\vdots & \\vdots & \\vdots & \\vdots & \\vdots & \\vdots & \\ddots & \\vdots & \\vdots  \\\\\n",
    "  1 & 0 & 0 & 0 & 0 & 0 & 0 & \\ldots & 0 & 0  \\\\\n",
    "  0 & 0 & 0 & 0 & 0 & 0 & 0 & \\ldots & 0 & 1  \\\\\n",
    "  -1 & 1 & 0 & 0 & 0 & 0 & 0 & \\ldots & 0 & 0  \\\\\n",
    "  0 & 0 & 0 & 0 & 0 & 0 & 0 & \\ldots & -1 & 1\n",
    " \\end{bmatrix}\n",
    "\\begin{bmatrix}\n",
    "  w_0 \\\\\n",
    "  w_1 \\\\\n",
    "  w_2 \\\\\n",
    "  w_3 \\\\\n",
    "  w_4 \\\\\n",
    "  w_5 \\\\\n",
    "  w_6 \\\\\n",
    "  \\vdots \\\\\n",
    "  w_{N-1} \n",
    " \\end{bmatrix}\n",
    " =\n",
    "\\begin{bmatrix}\n",
    "  \\Delta x^4 q_2 \\\\\n",
    "  \\Delta x^4 q_3 \\\\\n",
    "  \\vdots \\\\\n",
    "  0\\\\\n",
    "  0\\\\\n",
    "  0\\\\\n",
    "  0\n",
    " \\end{bmatrix}\n",
    "$\n",
    "\n",
    "$\\bar{\\bar{A}}\\bar{w} = \\bar{b}$\n",
    "\n",
    "Calculating $w$ is now a matter of solving the linear system using matrix $\\bar{\\bar{A}}$ and the right-hand-side vector $\\bar{b}$."
   ]
  },
  {
   "cell_type": "markdown",
   "metadata": {},
   "source": [
    "## Import things\n",
    "\n",
    "As before, the first thing to do is load the Python libraries that we'll be using. We'll group all our imports here at the top to make it easier to see what we're using."
   ]
  },
  {
   "cell_type": "code",
   "execution_count": null,
   "metadata": {},
   "outputs": [],
   "source": [
    "# The base of the entire scientific Python stack\n",
    "import numpy as np\n",
    "# For making plots and figures\n",
    "import matplotlib.pyplot as plt\n",
    "# To load and operate on data tables\n",
    "import pandas as pd\n",
    "# Scipy defines a bunch of scientific goodness on top of numpy\n",
    "# scipy.optimize is the module for function minimization\n",
    "import scipy.optimize"
   ]
  },
  {
   "cell_type": "markdown",
   "metadata": {},
   "source": [
    "## Setup a simplified model first\n",
    "\n",
    "To test our implementation, let's try setting up a model with a load in a single point in the middle of the grid. First, we have to make the grid (array of $x$ values and associated $\\Delta x$)."
   ]
  },
  {
   "cell_type": "code",
   "execution_count": null,
   "metadata": {},
   "outputs": [],
   "source": [
    "number_of_nodes = 500\n",
    "profile_length = 2500 # km\n",
    "x = np.linspace(0, profile_length, number_of_nodes)\n",
    "delta_x = x[1] - x[0]\n",
    "print(delta_x, \"km\")"
   ]
  },
  {
   "cell_type": "markdown",
   "metadata": {},
   "source": [
    "Now define the physical properties of the plate and the surrounding medium:"
   ]
  },
  {
   "cell_type": "code",
   "execution_count": null,
   "metadata": {},
   "outputs": [],
   "source": [
    "gravity = 9.8e-3 # km/s²\n",
    "density_contrast = 3.3e12 - 1.0e12 # kg/km³\n",
    "effective_elastic_thickness = 80 # km\n",
    "young_modulus = 70e12  # kg/(s²km)\n",
    "poisson_modulus = 0.25  # dimensionless\n",
    "flexural_rigidity = young_modulus * effective_elastic_thickness**3 / (12 * (1 - poisson_modulus**2))  # kg.km²/s²"
   ]
  },
  {
   "cell_type": "markdown",
   "metadata": {},
   "source": [
    "Now we can define the load vector $q$. It will have the same number of elements as `x` and we'll place a weight in the middle of it."
   ]
  },
  {
   "cell_type": "code",
   "execution_count": null,
   "metadata": {},
   "outputs": [],
   "source": [
    "load_height = 5 # km\n",
    "load_density = 2.8e12 # kg/km³\n",
    "# Make an array with the same size as x but filled with zeros\n",
    "load = np.zeros_like(x)\n",
    "# Use the equation for the force per unit area given above\n",
    "load[number_of_nodes // 2] = - gravity * load_density * load_height  # kg/(km.s²)"
   ]
  },
  {
   "cell_type": "markdown",
   "metadata": {},
   "source": [
    "----\n",
    "\n",
    "### Your turn \n",
    "\n",
    "Plot the load vector using matplotlib in the cell below:"
   ]
  },
  {
   "cell_type": "code",
   "execution_count": null,
   "metadata": {},
   "outputs": [],
   "source": [
    "plt.figure()\n",
    "plt.title(\"Applied load\")\n",
    "# Complete with your own code below\n",
    "\n",
    "\n",
    "plt.show()"
   ]
  },
  {
   "cell_type": "markdown",
   "metadata": {},
   "source": [
    "----"
   ]
  },
  {
   "cell_type": "markdown",
   "metadata": {},
   "source": [
    "Now that we have a load and physical properties of the medium, let's define the equation system (the $\\bar{\\bar{A}}$ matrix and $\\bar{b}$ vector). Let's start with the right-hand-side of the equation."
   ]
  },
  {
   "cell_type": "code",
   "execution_count": null,
   "metadata": {},
   "outputs": [],
   "source": [
    "# Start with an empty array of the right size\n",
    "right_hand_side = np.empty(number_of_nodes)\n",
    "\n",
    "# Populate the part for the flexure equation. \n",
    "# The range function generates numbers between the given range in increments of 1.\n",
    "# Leave the last 4 for later because they are the boundary conditions.\n",
    "for i in range(0, number_of_nodes - 4):\n",
    "    # Taken straight from the equations above\n",
    "    right_hand_side[i] = delta_x**4 * load[i + 2]\n",
    "    \n",
    "# Now add the boundary conditions. \n",
    "# Remember that in Python we can index arrays backwards (starting from -1).\n",
    "right_hand_side[-4 : ] = 0"
   ]
  },
  {
   "cell_type": "markdown",
   "metadata": {},
   "source": [
    "----\n",
    "\n",
    "### Your turn\n",
    "\n",
    "Fill in the code below to create the $\\bar{\\bar{A}}$ matrix. It will be very similar to the code above."
   ]
  },
  {
   "cell_type": "code",
   "execution_count": null,
   "metadata": {},
   "outputs": [],
   "source": [
    "# Fill in the shape of the matrix = (number of rows, number of columns)\n",
    "eq_system = np.zeros((    ))\n",
    "\n",
    "# Populate the flexure part of the equation\n",
    "for i in range(0, number_of_nodes - 4):\n",
    "    \n",
    "    \n",
    "# Add the boundary conditions\n",
    "eq_system[    ] = 1\n"
   ]
  },
  {
   "cell_type": "markdown",
   "metadata": {},
   "source": [
    "To check that your matrix is correct, let's estimate the flexure by solving the linear system and compare it with a saved solution that I generated."
   ]
  },
  {
   "cell_type": "code",
   "execution_count": null,
   "metadata": {},
   "outputs": [],
   "source": [
    "flexure = np.linalg.solve(eq_system, right_hand_side)"
   ]
  },
  {
   "cell_type": "markdown",
   "metadata": {},
   "source": [
    "Make a plot of the estimated flexure and compare with the saved figure below."
   ]
  },
  {
   "cell_type": "code",
   "execution_count": null,
   "metadata": {},
   "outputs": [],
   "source": [
    "plt.figure(figsize=(8, 4))\n",
    "# Fill in with your own code\n",
    "\n",
    "\n",
    "plt.show()"
   ]
  },
  {
   "cell_type": "markdown",
   "metadata": {},
   "source": [
    "#### **Reference figure**\n",
    "\n",
    "![Flexure of a point load.](https://github.com/leouieda/envs398/raw/master/labs/figures/flexure-of-a-point-load.png)\n",
    "\n",
    "----"
   ]
  },
  {
   "cell_type": "markdown",
   "metadata": {},
   "source": [
    "## Flexure of Hawai'i\n",
    "\n",
    "Now we can try to model the flexure of the lithosphere in Hawai'i due to the load of the islands. \n",
    "\n",
    "## Load the data\n",
    "\n",
    "First, let's load the profile data from the file `hawaii-profile.csv` (if downloading the data, put in a `data` folder along side this notebook)."
   ]
  },
  {
   "cell_type": "code",
   "execution_count": null,
   "metadata": {},
   "outputs": [],
   "source": [
    "hawaii = pd.read_csv(\"data/hawaii-profile.csv\")\n",
    "hawaii"
   ]
  },
  {
   "cell_type": "markdown",
   "metadata": {},
   "source": [
    "This is a `pandas.DataFrame`. You can access the individual columns of data like so:"
   ]
  },
  {
   "cell_type": "code",
   "execution_count": null,
   "metadata": {},
   "outputs": [],
   "source": [
    "print(hawaii.distance_km)"
   ]
  },
  {
   "cell_type": "markdown",
   "metadata": {},
   "source": [
    "----\n",
    "\n",
    "### Your turn\n",
    "\n",
    "Make a plot of the bathymetry profile in the cell below."
   ]
  },
  {
   "cell_type": "code",
   "execution_count": null,
   "metadata": {},
   "outputs": [],
   "source": [
    "plt.figure(figsize=(10, 3))\n",
    "# Fill in with your own code\n",
    "\n",
    "\n",
    "plt.show()"
   ]
  },
  {
   "cell_type": "markdown",
   "metadata": {},
   "source": [
    "----"
   ]
  },
  {
   "cell_type": "markdown",
   "metadata": {},
   "source": [
    "## Remove the thermal swell\n",
    "\n",
    "We can see from the bathymetry profile that there is a long-wavelength component (almost a gaussian shape) right around the islands. This is due to the thermal swell of the hotspot and not part of the flexure response of the oceanic lithosphere. The swell is isostatically compensanted, as seen in the gravity disturbance (**what mechanism explains this?**). So we have to first remove it.\n",
    "\n",
    "We'll fit a gaussian curve to the profile data and remove it from our observations to obtain a *residual*.\n",
    "\n",
    "First, define the gaussian function:\n",
    "\n",
    "$ \n",
    "h_{gauss} (x) = h_{0} + G \\exp \\left(-\\dfrac{(x - x_0)^2}{\\sigma^2}\\right)\n",
    "$\n"
   ]
  },
  {
   "cell_type": "code",
   "execution_count": null,
   "metadata": {},
   "outputs": [],
   "source": [
    "def gaussian(x, h0, G, x0, sigma):\n",
    "    h_gauss = h0 + G * np.exp(-(x - x0)**2/sigma**2)\n",
    "    return h_gauss"
   ]
  },
  {
   "cell_type": "markdown",
   "metadata": {},
   "source": [
    "To estimate the parameters of this function ($h_0$, $G$, $x_0$, $\\sigma$), we will eyeball it:"
   ]
  },
  {
   "cell_type": "code",
   "execution_count": null,
   "metadata": {},
   "outputs": [],
   "source": [
    "swell = gaussian(hawaii.distance_km, h0=-5.5, G=1.5, x0=1300, sigma=450)"
   ]
  },
  {
   "cell_type": "code",
   "execution_count": null,
   "metadata": {},
   "outputs": [],
   "source": [
    "plt.figure(figsize=(10, 3))\n",
    "plt.plot(hawaii.distance_km, hawaii.topography_km, \"-k\")\n",
    "plt.plot(hawaii.distance_km, swell, \"-r\")\n",
    "plt.xlim(hawaii.distance_km.min(), hawaii.distance_km.max())\n",
    "plt.xlabel(\"Distance (km)\")\n",
    "plt.ylabel(\"Topography (km)\")\n",
    "plt.title(\"Topography/bathymetry across Oahu and thermal swell\")\n",
    "plt.show()"
   ]
  },
  {
   "cell_type": "markdown",
   "metadata": {},
   "source": [
    "Now we can calculate a residual topography and store it in our original `pandas.DataFrame`."
   ]
  },
  {
   "cell_type": "code",
   "execution_count": null,
   "metadata": {},
   "outputs": [],
   "source": [
    "hawaii[\"residual_topography_km\"] = hawaii.topography_km - swell"
   ]
  },
  {
   "cell_type": "markdown",
   "metadata": {},
   "source": [
    "`hawaii.residual_topography_km` is the data that we're going to try to fit."
   ]
  },
  {
   "cell_type": "code",
   "execution_count": null,
   "metadata": {},
   "outputs": [],
   "source": [
    "plt.figure(figsize=(10, 3))\n",
    "plt.plot(hawaii.distance_km, hawaii.residual_topography_km)\n",
    "plt.xlim(hawaii.distance_km.min(), hawaii.distance_km.max())\n",
    "plt.xlabel(\"Distance (km)\")\n",
    "plt.ylabel(\"Topography (km)\")\n",
    "plt.title(\"Residual topography across Oahu\")\n",
    "plt.show()"
   ]
  },
  {
   "cell_type": "markdown",
   "metadata": {},
   "source": [
    "## Estimate the load\n",
    "\n",
    "Now we can estimate the load as the central part of our profile (the island mass) assuming that it stops at 0."
   ]
  },
  {
   "cell_type": "code",
   "execution_count": null,
   "metadata": {},
   "outputs": [],
   "source": [
    "# Find the indices corresponding to the island load\n",
    "island = np.logical_and(hawaii.distance_km > 1100, hawaii.distance_km < 1300)\n",
    "\n",
    "# Create an array with the topography values of just the load\n",
    "oahu_height = np.zeros_like(hawaii.distance_km)\n",
    "oahu_height[island] = hawaii.residual_topography_km[island]\n",
    "\n",
    "# Create an array with the load weight (same equation as before)\n",
    "oahu_load = - gravity * load_density * oahu_height  # kg/(km.s²)"
   ]
  },
  {
   "cell_type": "markdown",
   "metadata": {},
   "source": [
    "---\n",
    "\n",
    "### Your turn\n",
    "\n",
    "Plot the load height (`oahu_height`) along side the residual topography."
   ]
  },
  {
   "cell_type": "code",
   "execution_count": null,
   "metadata": {},
   "outputs": [],
   "source": [
    "plt.figure()\n",
    "# Fill in with your own code\n",
    "\n",
    "\n",
    "plt.show()"
   ]
  },
  {
   "cell_type": "markdown",
   "metadata": {},
   "source": [
    "## Estimate the effective elastic for Hawai'i\n",
    "\n",
    "Now we can use the code developed earlier to calculate the predicted flexure of the island load. The **parameter we're interested in is the effective elastic thickness**."
   ]
  },
  {
   "cell_type": "markdown",
   "metadata": {},
   "source": [
    "----\n",
    "\n",
    "### Your turn\n",
    "\n",
    "Calculate the flexure of the island load.\n",
    "\n",
    "You will have to copy your code from previously and replace the point load with our own. The `x` coordinates are taken from the profile (`hawaii.distance_km`). Fill in the required sections of the function below that does the flexure calculation. This will make it easier for you to vary the parameters and execute the code later on. For example:"
   ]
  },
  {
   "cell_type": "code",
   "execution_count": null,
   "metadata": {},
   "outputs": [],
   "source": [
    "def elastic_flexure(x, load, effective_elastic_thickness):\n",
    "    # Calculate the physical parameters\n",
    "    gravity = 9.8e-3 # km/s²\n",
    "    density_contrast = 3.3e12 - 1.0e12 # kg/km³\n",
    "    young_modulus = 70e12  # kg/(s²km)\n",
    "    poisson_modulus = 0.25  # dimensionless\n",
    "    flexural_rigidity = young_modulus * effective_elastic_thickness**3 / (12 * (1 - poisson_modulus**2))  # kg.km²/s²\n",
    "    \n",
    "    # Get the grid spacing\n",
    "    delta_x = x[1] - x[0]    \n",
    "    \n",
    "    # Generate the right-hand side vector    \n",
    "    # Fill in with your code here\n",
    "    \n",
    "    # Generate the equation system matrix\n",
    "    # Fill in with your code here\n",
    "    \n",
    "    # Solve the system for the flexure\n",
    "    # Fill in with your code here\n",
    "    \n",
    "    # Return the calculate flexure out of the function\n",
    "    return flexure"
   ]
  },
  {
   "cell_type": "markdown",
   "metadata": {},
   "source": [
    "Now we can use your function to calculate and plot the flexure:"
   ]
  },
  {
   "cell_type": "code",
   "execution_count": null,
   "metadata": {},
   "outputs": [],
   "source": [
    "hawaii_flexure = elastic_flexure(hawaii.distance_km, oahu_load, effective_elastic_thickness=100)"
   ]
  },
  {
   "cell_type": "markdown",
   "metadata": {},
   "source": [
    "Plot the estimated flexure:"
   ]
  },
  {
   "cell_type": "code",
   "execution_count": null,
   "metadata": {},
   "outputs": [],
   "source": [
    "plt.figure(figsize=(8, 4))\n",
    "plt.title(\"Predicted flexure in Oahu\")\n",
    "# Fill in with your own code\n",
    "\n",
    "\n",
    "plt.show()"
   ]
  },
  {
   "cell_type": "markdown",
   "metadata": {},
   "source": [
    "Now try to vary $T_e$ to fit the data:\n",
    "* Which part of the data should we try to fit?\n",
    "* Use common sense to experiment with values. "
   ]
  },
  {
   "cell_type": "markdown",
   "metadata": {},
   "source": [
    "## Questions\n",
    "\n",
    "Discuss the following questions with your classmates:\n",
    "\n",
    "* What approximations were made in these calculations (physical, geophysical, and mathematical)?\n",
    "* Which factors contribute to the bias and uncertainty of your $T_e$ estimate?\n",
    "* How could this estimate be improved?"
   ]
  }
 ],
 "metadata": {
  "kernelspec": {
   "display_name": "Python [conda env:envs398]",
   "language": "python",
   "name": "conda-env-envs398-py"
  },
  "language_info": {
   "codemirror_mode": {
    "name": "ipython",
    "version": 3
   },
   "file_extension": ".py",
   "mimetype": "text/x-python",
   "name": "python",
   "nbconvert_exporter": "python",
   "pygments_lexer": "ipython3",
   "version": "3.8.0"
  }
 },
 "nbformat": 4,
 "nbformat_minor": 4
}
