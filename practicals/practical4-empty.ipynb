{
 "cells": [
  {
   "cell_type": "markdown",
   "id": "e42bca8b-dfcf-4738-9744-fedf2dd7f2b9",
   "metadata": {},
   "source": [
    "# Bending of the lithosphere under seamounts\n",
    "\n",
    "**Goal:** Implement the finite-difference solution to the 1D flexure equation and compare it's predictions against observations of gravity disturbances and bathymetry.\n",
    "\n",
    "With the appropriate boundary condition, we can use the 1D flexure equation to model the bending of the oceanic lithosphere under the load of a seamount or island chain. **Our assumption is that the plate is perfectly elastic and structures are infinite perpendicular to the profile.** \n",
    "\n",
    "<img style=\"width: 500px; margin: 10px auto;\" src=\"https://github.com/leouieda/lithosphere/raw/be03c3400f4850de815a71b8536874ee2af4308b/lectures/assets/flexure-seamount.svg\">\n",
    "<p style=\"text-align: left; width: 500px; max-width: 100%; margin: 30px auto;\">\n",
    "Figure caption: Sketch of the elastic plate flexure for a load $q(x)$.\n",
    "</p>"
   ]
  },
  {
   "cell_type": "markdown",
   "id": "8db93e33-132c-4116-befd-6d3d2df1807c",
   "metadata": {},
   "source": [
    "## Governing equations\n",
    "\n",
    "The equation describing the deflection ($w$) of an elastic plate subject to a vertical load is:\n",
    "\n",
    "$$ D\\dfrac{\\partial^4 w}{\\partial x^4} = q(x) - g (\\rho_m - \\rho_w) w $$\n",
    "\n",
    "in which $x$ is the position along the profile, $D$ is the flexural rigidity of the plate, $rho_w$ and $rho_m$ are the water and mantle densities, $g$ is gravity (for these purposes, assume $9.8\\ m/s^2$), and $q(x)$ is a force density applied by the load on the plate (the weight of the topography). The term $g (\\rho_m - \\rho_w) w$ is the restoring hydrostatic force (buoyancy) from replacing mantle material at depth with water on top because of the flexure.\n",
    "\n",
    "The **flexural rigidity** $D$ can be described in terms of the plate's elastic parameters:\n",
    "\n",
    "$$ D = \\dfrac{E T_e^3}{12(1 - \\nu^2)} $$\n",
    "\n",
    "where $E$ is [Young's modulus](https://en.wikipedia.org/wiki/Young's_modulus), $\\nu$ is [Poisson's ratio](https://en.wikipedia.org/wiki/Poisson's_ratio), and $T_e$ is the *effective elastic thickness*.\n",
    "\n",
    "The **load force per unit area** $q(x)$ is the weight of the load applied on the lithosphere. For a load of height $h$ and density $\\rho_c$, the weight per unit area is (negative because the force is applied downwards):\n",
    "\n",
    "$$ q(x) = -g \\rho_c h(x) $$"
   ]
  },
  {
   "cell_type": "markdown",
   "id": "851c1034-6d25-46bf-8995-b5dc37e51c86",
   "metadata": {},
   "source": [
    "## Boundary conditions\n",
    "\n",
    "If we assume that the load is applied somewhere in the middle of the plate, we can consider the boundaries as stable lithosphere under no load. In that case, we don't expect to see any deflection at the boundaries. We can also impose that the first derivative of deflection is zero at the boundaries (the plate approaches the boundaries horizontally, not at an angle). This leads to the boundary conditions:\n",
    "\n",
    "$$\n",
    "\\begin{align}\n",
    "    w(x=0) &= 0 \\\\\n",
    "    w(x=x_{max}) &= 0 \\\\\n",
    "    \\dfrac{\\partial w}{\\partial x}(x=0) &= 0 \\\\\n",
    "    \\dfrac{\\partial w}{\\partial x}(x=x_{max}) &= 0\n",
    "\\end{align}\n",
    "$$"
   ]
  },
  {
   "cell_type": "markdown",
   "id": "678e4ce2-9848-4021-8d39-67895b13f921",
   "metadata": {},
   "source": [
    "## The data\n",
    "\n",
    "**Download** (if you haven't already): [global-geophysical-data.nc](https://github.com/leouieda/lithosphere/raw/main/data/global-geophysical-data.nc) (place it in the **same folder** as this notebook)\n",
    "\n",
    "The data grids are stored in a [netCDF](https://en.wikipedia.org/wiki/NetCDF) file, which is a very common standard for storing and distributing gridded data. It's used throughout the Earth, ocean, and climate sciences and can be read an manipulated with most software platforms. It contains global grids of gravity, topography, and heat flow. All grids were interpolated onto the same resolution of 0.2 degrees (a compromise between resolution and size of the file) so that we can easily compare and use all of the data together.\n",
    "\n",
    "* **Gravity**: generated from the [EIGEN-6C4 spherical harmonic model](https://doi.org/10.5880/icgem.2015.1) through the [ICGEM webservice](http://icgem.gfz-potsdam.de/home). It includes two grids: the gravity disturbance calculated with the WGS84 ellipsoid and the Bouguer gravity disturbance calculated using a topography density of 2670 kg/m³. The data for both grids was generated on top of the Earth's surface (the water surface in the oceans and topography on land).\n",
    "* **Topography and bathymetry**: a downsampled version of [ETOPO1](https://doi.org/10.7289/V5C8276M) and includes a version smoothed using a Gaussian filter with 1 degree width (~100 km).\n",
    "* **Heat flow**: an upsampled version of the compilation by [Lucazeau (2019)](https://doi.org/10.1029/2019GC008389) (originally 0.5 degree resolution).\n",
    "* **Lithosphere age (oceanic)**: a downsampled version of the grid by [Müller et al. (2008)](https://doi.org/10.1029/2007GC001743) (originally 6 arc-minutes)."
   ]
  },
  {
   "cell_type": "markdown",
   "id": "c675897a-a1db-4926-b5bd-1b65abf2047b",
   "metadata": {},
   "source": [
    "## Import the required libraries\n",
    "\n",
    "Load the required software to load the data, make maps, and perform calculations."
   ]
  },
  {
   "cell_type": "code",
   "execution_count": null,
   "id": "735518b0-8ba3-4288-9ac8-3560d5b0be44",
   "metadata": {},
   "outputs": [],
   "source": [
    "# For arrays and linear algebra\n",
    "import numpy as np\n",
    "# To make figures and maps\n",
    "import matplotlib.pyplot as plt\n",
    "# To load and manipulate grids\n",
    "import xarray as xr\n",
    "# Import our own module (lithosphere.py)\n",
    "import lithosphere"
   ]
  },
  {
   "cell_type": "markdown",
   "id": "6ad84fdb-61bb-4b96-9f40-92ff12e8e7d2",
   "metadata": {},
   "source": [
    "## Load the data grids\n",
    "\n",
    "Once again, we'll use xarray to load the data from the netCDF file."
   ]
  },
  {
   "cell_type": "code",
   "execution_count": null,
   "id": "bc2a7a99-3144-4e9c-b457-4ac7d7d59135",
   "metadata": {},
   "outputs": [],
   "source": []
  },
  {
   "cell_type": "code",
   "execution_count": null,
   "id": "5bfec713-141b-4c40-a333-12e28e850b78",
   "metadata": {},
   "outputs": [],
   "source": []
  },
  {
   "cell_type": "markdown",
   "id": "2f1e1392-1166-429c-96b6-595813a90e29",
   "metadata": {},
   "source": [
    "## Extracting a profile \n",
    "\n",
    "Once again, we'll extract a profile from our data grids. This time, we will use the function that we placed in `lithosphere.py` so we don't have to copy the code into this notebook.\n",
    "\n",
    "First, let's slice a region in the North Atlantic where there are some nice seamounts."
   ]
  },
  {
   "cell_type": "code",
   "execution_count": null,
   "id": "22791d44-434c-4291-9285-dc7d08aae6b6",
   "metadata": {},
   "outputs": [],
   "source": []
  },
  {
   "cell_type": "markdown",
   "id": "1f0c3f52-fc82-47b6-8888-011444e59aea",
   "metadata": {},
   "source": [
    "Now extract a profile that cuts across the seamount chain."
   ]
  },
  {
   "cell_type": "code",
   "execution_count": null,
   "id": "15a6514b-f4d6-4015-94a8-61842ab40689",
   "metadata": {},
   "outputs": [],
   "source": []
  },
  {
   "cell_type": "markdown",
   "id": "c308b507-fd1b-4771-aef4-62ede7d47f40",
   "metadata": {},
   "source": [
    "Plot the location of the profile."
   ]
  },
  {
   "cell_type": "code",
   "execution_count": null,
   "id": "a03e8440-52ab-4604-b514-688f250c2551",
   "metadata": {},
   "outputs": [],
   "source": []
  },
  {
   "cell_type": "markdown",
   "id": "cfd7ce33-ee35-42dc-ba1f-0c3d970aeada",
   "metadata": {},
   "source": [
    "And the profile topography and gravity disturbance data."
   ]
  },
  {
   "cell_type": "code",
   "execution_count": null,
   "id": "a558aaca-f02d-45c5-8557-b2830f1132ff",
   "metadata": {},
   "outputs": [],
   "source": []
  },
  {
   "cell_type": "markdown",
   "id": "4e92878a-e197-415c-a00b-78a7539ba1bb",
   "metadata": {},
   "source": [
    "We will need the height of the seamount load above the background bathymetry for our modeling. So let's see if we can calculate that."
   ]
  },
  {
   "cell_type": "code",
   "execution_count": null,
   "id": "0a61ba30-8a88-4a26-91a8-2f32d5f7ba32",
   "metadata": {},
   "outputs": [],
   "source": []
  },
  {
   "cell_type": "code",
   "execution_count": null,
   "id": "30652ed7-d051-43f3-a241-d3149cffaafb",
   "metadata": {},
   "outputs": [],
   "source": []
  },
  {
   "cell_type": "markdown",
   "id": "74823bbb-b075-4786-8923-87b5811284b7",
   "metadata": {},
   "source": [
    "## Solving the flexure equation by finite-differences\n",
    "\n",
    "The finite-difference solution to the flexure equation is the solution (the $w_i$ terms) to the equation system:\n",
    "\n",
    "$$\n",
    "\\begin{align}\n",
    "  D w_{4} - 4 D w_{3} + \\left[6D + \\Delta x^4 (\\rho_m - \\rho_w) g\\right] w_2 - 4 D w_{1} + D w_{0} &= \\Delta x^4 q_2  \\\\ \n",
    "  D w_{5} - 4 D w_{4} + \\left[6D + \\Delta x^4 (\\rho_m - \\rho_w) g\\right] w_3 - 4 D w_{2} + D w_{1} &= \\Delta x^4 q_3  \\\\ \n",
    "  \\vdots & \\\\\n",
    "  D w_{N-1} - 4 D w_{N-2} + \\left[6D + \\Delta x^4 (\\rho_m - \\rho_w) g\\right] w_{N-3} - 4 D w_{N-4} + D w_{N-5} &= \\Delta x^4 q_{N-3} \\\\\n",
    "  w_0 &= 0  \\\\\n",
    "  w_{N-1} &= 0  \\\\\n",
    "  w_1 - w_0 &= 0  \\\\\n",
    "  w_{N-1} - w_{N-2} &= 0 \n",
    "\\end{align}\n",
    "$$\n",
    "\n",
    "Here, the continuous $w$ and $q$ have been discretized into $N$ values with a spacing of $\\Delta x$ between them. \n",
    "\n",
    "Another way of writing this equation system is using a matrix notation:\n",
    "\n",
    "$$\n",
    "\\underbrace{\n",
    "\\begin{bmatrix}\n",
    "  D  & -4D & \\left[6D + \\Delta x^4 (\\rho_m - \\rho_w) g\\right] & -4D & D & 0 & 0 & \\ldots & 0 & 0 \\\\ \n",
    "  0 & D  & -4D & \\left[6D + \\Delta x^4 (\\rho_m - \\rho_w) g\\right] & -4D & D & 0 & \\ldots & 0 & 0 \\\\ \n",
    "  \\vdots & \\vdots & \\vdots & \\vdots & \\vdots & \\vdots & \\vdots & \\ddots & \\vdots & \\vdots  \\\\\n",
    "  1 & 0 & 0 & 0 & 0 & 0 & 0 & \\ldots & 0 & 0  \\\\\n",
    "  0 & 0 & 0 & 0 & 0 & 0 & 0 & \\ldots & 0 & 1  \\\\\n",
    "  -1 & 1 & 0 & 0 & 0 & 0 & 0 & \\ldots & 0 & 0  \\\\\n",
    "  0 & 0 & 0 & 0 & 0 & 0 & 0 & \\ldots & -1 & 1\n",
    " \\end{bmatrix}\n",
    "}_{\\bar{\\bar{A}}}\n",
    "\\underbrace{\n",
    "\\begin{bmatrix}\n",
    "  w_0 \\\\\n",
    "  w_1 \\\\\n",
    "  w_2 \\\\\n",
    "  w_3 \\\\\n",
    "  w_4 \\\\\n",
    "  w_5 \\\\\n",
    "  w_6 \\\\\n",
    "  \\vdots \\\\\n",
    "  w_{N-1} \n",
    " \\end{bmatrix}\n",
    "}_{\\bar{w}}\n",
    " =\n",
    "\\underbrace{\n",
    "\\begin{bmatrix}\n",
    "  \\Delta x^4 q_2 \\\\\n",
    "  \\Delta x^4 q_3 \\\\\n",
    "  \\vdots \\\\\n",
    "  0\\\\\n",
    "  0\\\\\n",
    "  0\\\\\n",
    "  0\n",
    " \\end{bmatrix}\n",
    "}_{\\bar{b}}\n",
    "$$\n",
    "\n",
    "$$\n",
    "\\bar{\\bar{A}} \\bar{w} = \\bar{b}\n",
    "$$\n",
    "\n",
    "We'll need to figure out a way to build the $\\bar{\\bar{A}}$ matrix and $\\bar{b}$ vector. Once we have those, we can the deflection $\\bar{w}$ using `numpy.linalg.solve`.\n",
    "\n",
    "Let's write write a function that builds the matrix and vector and then solves the system."
   ]
  },
  {
   "cell_type": "code",
   "execution_count": null,
   "id": "0be791f1-7c49-4482-a722-430db2253ff5",
   "metadata": {},
   "outputs": [],
   "source": []
  },
  {
   "cell_type": "markdown",
   "id": "39e48808-03f3-4b5f-9792-073b386b9d4f",
   "metadata": {},
   "source": [
    "We'll assume that the flexural parameters of the lithosphere are:\n",
    "\n",
    "* Poisson's ratio: $\\nu = 0.25$\n",
    "* Young's modulus: $E = 70 \\times 10^9\\ \\frac{kg}{s^2 m}$\n",
    "\n",
    "We'll vary the effective elastic thickness $T_e$ as needed but it will probably be around 20-40 km. \n",
    "With these, we can calculate the flexural rigidity $D$."
   ]
  },
  {
   "cell_type": "code",
   "execution_count": null,
   "id": "a488240d-1e76-4b3b-b89d-22e86075e759",
   "metadata": {},
   "outputs": [],
   "source": []
  },
  {
   "cell_type": "markdown",
   "id": "90659c67-634e-46fc-894b-78a3884bd83e",
   "metadata": {},
   "source": [
    "Now we can solve for $w$."
   ]
  },
  {
   "cell_type": "code",
   "execution_count": null,
   "id": "49dbd6ce-abcd-4ca2-b588-da938851fbcb",
   "metadata": {},
   "outputs": [],
   "source": []
  },
  {
   "cell_type": "code",
   "execution_count": null,
   "id": "3d72e528-69cc-4ea6-83b4-65c210fbf389",
   "metadata": {},
   "outputs": [],
   "source": []
  },
  {
   "cell_type": "markdown",
   "id": "9595330a-b076-4256-8fdf-b8bbb50b1f1c",
   "metadata": {},
   "source": [
    "## Predicting gravity\n",
    "\n",
    "We can also predict the observed gravity disturbances from the calculated deflection. To do so, we derive the density anomalies caused by the downward deflection of the oceanic crust. The figure below illustrate a conceptual model of the density anomalies causing the observed data.\n",
    "\n",
    "<img style=\"width: 500px; margin: 10px auto;\" src=\"https://github.com/leouieda/lithosphere/raw/be03c3400f4850de815a71b8536874ee2af4308b/lectures/assets/disturbance-flexure-model.svg\">\n",
    "<p style=\"text-align: left; width: 500px; max-width: 100%; margin: 30px auto;\">\n",
    "Figure caption: Model of the density anomalies causing the observed gravity disturbance due to the flexure and the presence of the seamount.\n",
    "</p>\n",
    "\n",
    "The gravitational effect of these density anomalies can be estimated using a **Bouguer plate approximation** by carefully assigning the correct density contrasts to each part of the model: \n",
    "\n",
    "$$ g \\approx 2 \\pi G \\Delta\\rho |w| $$\n",
    "\n",
    "To make things easier, we can split the effect into 3 parts which can be added together to produce the final result:\n",
    "\n",
    "1. The seamount\n",
    "2. The deflection at the surface\n",
    "3. The deflection at the Moho\n",
    "\n",
    "Let's write a function that calculates the predicted gravity for our seamount flexure."
   ]
  },
  {
   "cell_type": "code",
   "execution_count": null,
   "id": "74e6456a-fef9-4567-81d1-eb7007e47668",
   "metadata": {},
   "outputs": [],
   "source": []
  },
  {
   "cell_type": "markdown",
   "id": "b22450d0-c3c8-4185-aee0-e1b1be33ed22",
   "metadata": {},
   "source": [
    "Now we can predict the gravity disturbance and plot it agaisnt our observed data."
   ]
  },
  {
   "cell_type": "code",
   "execution_count": null,
   "id": "fbac95c7-ea56-40ab-9a16-2d7ebcc0cb96",
   "metadata": {},
   "outputs": [],
   "source": []
  },
  {
   "cell_type": "code",
   "execution_count": null,
   "id": "09c564d8-fca0-4b19-ac28-995a0d483640",
   "metadata": {},
   "outputs": [],
   "source": []
  },
  {
   "cell_type": "markdown",
   "id": "a83eaca3-4507-463e-b74d-352851a0610e",
   "metadata": {},
   "source": [
    "The fit is not great. Our predictions seem to be a bit too small. There are 2 effects that we neglected in our gravity calculations above:\n",
    "\n",
    "1. The effect of the surface deflection should not be included underneath the seamount\n",
    "2. The downwards flexure at the surface is not filled with water (look at the bathymetry data). It's actually been packged with sediments.\n",
    "\n",
    "Let's make a new function that takes these 2 effects into account."
   ]
  },
  {
   "cell_type": "code",
   "execution_count": null,
   "id": "354202b2-e7d0-4096-a6e1-fc85d5010298",
   "metadata": {},
   "outputs": [],
   "source": [
    "\n"
   ]
  },
  {
   "cell_type": "markdown",
   "id": "bba3654a-cfe8-4481-88aa-5a11b871d8e6",
   "metadata": {},
   "source": [
    "Recalculate the predicted gravity and plot it along side the data and our previous estimate."
   ]
  },
  {
   "cell_type": "code",
   "execution_count": null,
   "id": "ed2b3eba-7075-48f3-80bd-f74a3339e647",
   "metadata": {},
   "outputs": [],
   "source": []
  },
  {
   "cell_type": "code",
   "execution_count": null,
   "id": "8f0e1944-a11b-435e-b68d-cbfa004ac856",
   "metadata": {},
   "outputs": [],
   "source": []
  },
  {
   "cell_type": "markdown",
   "id": "14fd1433-ad60-44ad-955d-335924daace2",
   "metadata": {},
   "source": [
    "---\n",
    "\n",
    "## **Your turn!**\n",
    "\n",
    "Try out the new modelling tools to investigate a group of seamounts in the Southwest Pacific ocean. The age of the lithosphere is much larger than the example from the Atlantic we just saw (which was next to the mid-ocean ridge). So we expect the lithosphere to be thicker, colder, and denser.\n",
    "\n",
    "In groups:\n",
    "\n",
    "1. Extract a profile cutting across one (or more) seamounts\n",
    "1. Plot the observed gravity and bathymetry along the profile\n",
    "1. Calculate the deflection caused by the load of the seamount(s)\n",
    "1. Use the deflection to predict the gravity distubance and compare against observations (you may have to adjust the values of density and effective elastic thickness)\n",
    "1. Discuss:\n",
    "    1. What we can learn from these models about seamounts and elastic properties of the oceanic lithosphere\n",
    "    1. The main limitations of the 1D modelling approach and the approximations we used for the gravity calculations\n",
    "\n",
    "Share with the class:\n",
    "\n",
    "1. The plots of your profile data, location, and model predictions \n",
    "1. The key discussion points"
   ]
  },
  {
   "cell_type": "code",
   "execution_count": null,
   "id": "358f29eb-fe6e-4047-b977-69abaa3d1039",
   "metadata": {},
   "outputs": [],
   "source": [
    "pacific = data.sel(longitude=slice(150, 180), latitude=slice(5, 20))\n",
    "pacific.topography.plot(figsize=(14, 8))"
   ]
  },
  {
   "cell_type": "code",
   "execution_count": null,
   "id": "7c4b9a68-985c-46d8-840e-6892983a3d3a",
   "metadata": {},
   "outputs": [],
   "source": []
  },
  {
   "cell_type": "code",
   "execution_count": null,
   "id": "ef8e297a-a033-4521-b79c-7898ef1cf3c0",
   "metadata": {},
   "outputs": [],
   "source": []
  },
  {
   "cell_type": "code",
   "execution_count": null,
   "id": "b4aad23b-cfd4-4598-b985-3b611216c908",
   "metadata": {},
   "outputs": [],
   "source": []
  }
 ],
 "metadata": {
  "kernelspec": {
   "display_name": "Python [conda env:lithosphere]",
   "language": "python",
   "name": "conda-env-lithosphere-py"
  },
  "language_info": {
   "codemirror_mode": {
    "name": "ipython",
    "version": 3
   },
   "file_extension": ".py",
   "mimetype": "text/x-python",
   "name": "python",
   "nbconvert_exporter": "python",
   "pygments_lexer": "ipython3",
   "version": "3.8.0"
  }
 },
 "nbformat": 4,
 "nbformat_minor": 5
}
