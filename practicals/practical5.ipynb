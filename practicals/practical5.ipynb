{
 "cells": [
  {
   "cell_type": "markdown",
   "id": "2dc72bfa-3b56-459d-b901-6778b6dc3d3c",
   "metadata": {},
   "source": [
    "# Investigations of the lithosphere\n",
    "\n",
    "**Goal:** Bring together all that we've learned so far to investigate the state of the lithosphere is different parts of the world.\n",
    "\n",
    "So far we've learned how to:\n",
    "\n",
    "1. Assess the overall state of isostatic equilibrium of the lithosphere using topography/bathymetry and gravity data\n",
    "1. Model the thermal evolution of the oceanic lithosphere and compare model predictions against heat flow and bathymetry data\n",
    "1. Model the bending of the lithosphere at subduction zones and make predictions of bathymetry and gravity disturbances along profiles\n",
    "1. Model the intra-plate bending of the lithosphere under the weight of oceanic islands and seamounts and compare model predictions against observed gravity disturbances\n",
    "\n",
    "In this practical, you will:\n",
    "\n",
    "1. Investigate a particular region of the Earth using global topography/bathymetry, age, heat flow, and gravity data\n",
    "1. Use all of the tools available to you to describe the overall state of the lithosphere (isostic equilibrium, flexure, thickness, age, fit to models, etc)\n",
    "1. Work in groups to come up with a summary of your understanding of the lithosphere in that particular region"
   ]
  },
  {
   "cell_type": "markdown",
   "id": "acd514fb-99e6-4444-b34c-e6d41e4ccdec",
   "metadata": {},
   "source": [
    "## The data\n",
    "\n",
    "**Download** (if you haven't already): [global-geophysical-data.nc](https://github.com/leouieda/lithosphere/raw/main/data/global-geophysical-data.nc) (place it in the **same folder** as this notebook)\n",
    "\n",
    "The data grids are stored in a [netCDF](https://en.wikipedia.org/wiki/NetCDF) file, which is a very common standard for storing and distributing gridded data. It's used throughout the Earth, ocean, and climate sciences and can be read an manipulated with most software platforms. It contains global grids of gravity, topography, and heat flow. All grids were interpolated onto the same resolution of 0.2 degrees (a compromise between resolution and size of the file) so that we can easily compare and use all of the data together.\n",
    "\n",
    "* **Gravity**: generated from the [EIGEN-6C4 spherical harmonic model](https://doi.org/10.5880/icgem.2015.1) through the [ICGEM webservice](http://icgem.gfz-potsdam.de/home). It includes two grids: the gravity disturbance calculated with the WGS84 ellipsoid and the Bouguer gravity disturbance calculated using a topography density of 2670 kg/m³. The data for both grids was generated on top of the Earth's surface (the water surface in the oceans and topography on land).\n",
    "* **Topography and bathymetry**: a downsampled version of [ETOPO1](https://doi.org/10.7289/V5C8276M) and includes a version smoothed using a Gaussian filter with 1 degree width (~100 km).\n",
    "* **Heat flow**: an upsampled version of the compilation by [Lucazeau (2019)](https://doi.org/10.1029/2019GC008389) (originally 0.5 degree resolution).\n",
    "* **Lithosphere age (oceanic)**: a downsampled version of the grid by [Müller et al. (2008)](https://doi.org/10.1029/2007GC001743) (originally 6 arc-minutes)."
   ]
  },
  {
   "cell_type": "markdown",
   "id": "ff08c0d8-451c-4b7c-9364-8d32fb0b0253",
   "metadata": {},
   "source": [
    "## Import the required libraries\n",
    "\n",
    "Load the required software to load the data, make maps, and perform calculations.\n",
    "\n",
    "Since we are reusing code and models from previous lessons, you may want to **add them to the `lithosphere.py` module** so that you can easily access your functions in this notebook."
   ]
  },
  {
   "cell_type": "code",
   "execution_count": null,
   "id": "48ee5f32-f74e-42ad-afc6-8e808acc642e",
   "metadata": {},
   "outputs": [],
   "source": [
    "# For arrays and linear algebra\n",
    "import numpy as np\n",
    "# To make figures and maps\n",
    "import matplotlib.pyplot as plt\n",
    "# To load and manipulate grids\n",
    "import xarray as xr\n",
    "# To insert a Google Map on the notebook\n",
    "from IPython.display import IFrame\n",
    "# Import our own module (lithosphere.py)\n",
    "import lithosphere"
   ]
  },
  {
   "cell_type": "markdown",
   "id": "f0a23089-557f-4624-be4b-600d5d4145fb",
   "metadata": {},
   "source": [
    "## Load the data grids\n",
    "\n",
    "Once again, we'll use xarray to load the data from the netCDF file."
   ]
  },
  {
   "cell_type": "code",
   "execution_count": null,
   "id": "67435f65-e9f6-4feb-960f-f96f839c8f6c",
   "metadata": {},
   "outputs": [],
   "source": [
    "data = xr.load_dataset(\"global-geophysical-data.nc\")\n",
    "data"
   ]
  },
  {
   "cell_type": "code",
   "execution_count": null,
   "id": "1b5227ff-aa8d-4504-a6cc-8b2ac293e4fc",
   "metadata": {},
   "outputs": [],
   "source": [
    "data.topography.plot(figsize=(18, 8))"
   ]
  },
  {
   "cell_type": "markdown",
   "id": "72f033c7-7305-4241-97c0-ea07aae88ca0",
   "metadata": {},
   "source": [
    "And let's also insert a Google Map so that we can easily look up the names of places and locate our study areas."
   ]
  },
  {
   "cell_type": "code",
   "execution_count": null,
   "id": "3af55c59-7138-43c6-bcd3-8e057e39c249",
   "metadata": {},
   "outputs": [],
   "source": [
    "IFrame(\"https://www.google.com/maps/embed?pb=!1m14!1m12!1m3!1d68542618.09920536!2d1.6072808059942376!3d-3.737561027842355!2m3!1f0!2f0!3f0!3m2!1i1024!2i768!4f13.1!5e1!3m2!1sen!2suk!4v1621589542222!5m2!1sen!2suk\", width=1000, height=600)"
   ]
  },
  {
   "cell_type": "markdown",
   "id": "700ae317-b8ea-4533-a7b4-e26a3fa7a5a5",
   "metadata": {},
   "source": [
    "---\n",
    "\n",
    "## **Your turn!**\n",
    "\n",
    "Each group will be assigned one of three study areas:\n",
    "\n",
    "1. Hawaiian Islands: `longitude=slice(-170, -145), latitude=slice(13, 30)`\n",
    "1. Mariana trench and the Philippine Sea: `longitude=slice(135, 163), latitude=slice(11, 25)`\n",
    "1. Southern Ocean near the Scotia and Sandwich Plate and the Bouvet triple junction: `longitude=slice(-50, 15), latitude=slice(-65, -50)`\n",
    "\n",
    "Your task is to:\n",
    "\n",
    "* Gather the available data for your area\n",
    "* Make plots, maps, and profiles as you see fit\n",
    "* Think about what the data can tell you about the lithosphere and tectonics of the area\n",
    "* Supplement the data investigation with some Google searches\n",
    "* Use 1 or more of the models we've seen to try to explain the observed data\n",
    "* Discuss your findings as a group: relate the data, model fit (or lack thereof), and background information\n",
    "\n",
    "You will deliver back to the whole class:\n",
    "\n",
    "* A bullet point summary of your findings\n",
    "* Selected figures that support your ideas\n",
    "\n",
    "Some tips:\n",
    "\n",
    "* Start off by plotting the maps of all available data\n",
    "* Divide the work between group members or pairs\n",
    "* Take notes as you work instead of waiting until the end"
   ]
  },
  {
   "cell_type": "code",
   "execution_count": null,
   "id": "415325e5-ed4a-4496-ad55-b0929542559e",
   "metadata": {},
   "outputs": [],
   "source": []
  }
 ],
 "metadata": {
  "kernelspec": {
   "display_name": "Python [conda env:lithosphere]",
   "language": "python",
   "name": "conda-env-lithosphere-py"
  },
  "language_info": {
   "codemirror_mode": {
    "name": "ipython",
    "version": 3
   },
   "file_extension": ".py",
   "mimetype": "text/x-python",
   "name": "python",
   "nbconvert_exporter": "python",
   "pygments_lexer": "ipython3",
   "version": "3.8.0"
  }
 },
 "nbformat": 4,
 "nbformat_minor": 5
}
