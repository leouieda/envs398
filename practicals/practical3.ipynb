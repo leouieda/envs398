{
 "cells": [
  {
   "cell_type": "markdown",
   "id": "fafed529-de75-42e4-8381-506a3b70e516",
   "metadata": {},
   "source": [
    "# Bending of the lithosphere during subduction\n",
    "\n",
    "**Goal:** Implement the solution to the 1D flexure equation that describes the bending of the subducting oceanic lithosphere and compare it's predictions against observations of gravity disturbances and bathymetry.\n",
    "\n",
    "Using the 1D flexure equation, we can model the bending of the oceanic lithosphere at a subduction zone. **Our assumption is that the plate is perfectly elastic and is bending under a load placed at one of its ends.** The solution for the amount of deflection (upwards or downwards) $w$ can be expressed as:\n",
    "\n",
    "$$\n",
    "w(x) = w_b\\ e^{\\pi/4} \\sqrt{2}\n",
    "\\exp\\left( -\\dfrac{\\pi}{4}\\left(\\dfrac{x - x_0}{x_b - x_0}\\right) \\right)\n",
    "\\sin\\left(\\dfrac{\\pi}{4}\\left(\\dfrac{x - x_0}{x_b - x_0}\\right) \\right)\n",
    "$$\n",
    "\n",
    "in which $w_b$ is the deflection at the peak of the forebulge, $x_b$ is the position of the peak of the forebulge, and $x_0$ is the position in which the deflection crosses the zero line. The figure below can better illustrate these parameters.\n",
    "\n",
    "<img style=\"width: 500px; margin: 10px auto;\" src=\"https://github.com/leouieda/lithosphere/raw/77a1da95fe7fcd65528bd8e30bbdcea949f5c3c7/lectures/assets/flexure-setup.svg\">\n",
    "<p style=\"text-align: left; width: 500px; max-width: 100%; margin: 30px auto;\">\n",
    "Figure caption: Sketch of the elastic plate flexure for an end load (placed on the left) and the geometric parameters used to derive the solution.\n",
    "</p>\n",
    "\n",
    "We can also predict the observed gravity disturbances due to the density anomalies caused by the downward deflection of the oceanic crust. The figure below illustrate a conceptual model of the density anomalies causing the observed data.\n",
    "\n",
    "<img style=\"width: 500px; margin: 10px auto;\" src=\"https://github.com/leouieda/lithosphere/raw/77a1da95fe7fcd65528bd8e30bbdcea949f5c3c7/lectures/assets/disturbance-subduction-model.svg\">\n",
    "<p style=\"text-align: left; width: 500px; max-width: 100%; margin: 30px auto;\">\n",
    "Figure caption: Model of the density anomalies causing the observed gravity disturbance due to subduction.\n",
    "</p>\n",
    "\n",
    "The gravitational effect of these mass anomalies can be estimated using a **Bouguer plate approximation** ($g \\approx 2 \\pi G \\Delta\\rho w$) if we know the deflection $w$ and the density of water and mantle (in practice, the density of the crust cancels out). \n",
    "\n",
    "**In this notebook**, we'll write functions to:\n",
    "\n",
    "* Calculate the deflection given the geometric parameters $x_0$, $x_b$, and $w_b$ \n",
    "* Estimate the gravity disturbance caused by the deflection\n",
    "* Extract a profile from our global grid datasets along a great-circle path\n",
    "\n",
    "We'll also analyse the fit of the model to observations in different profiles to see its limitations."
   ]
  },
  {
   "cell_type": "markdown",
   "id": "cfee20c2-dc3f-4f59-be5b-c63d77917d70",
   "metadata": {},
   "source": [
    "## The data\n",
    "\n",
    "**Download** (if you haven't already): [global-geophysical-data.nc](https://github.com/leouieda/lithosphere/raw/main/data/global-geophysical-data.nc) (place it in the **same folder** as this notebook)\n",
    "\n",
    "The data grids are stored in a [netCDF](https://en.wikipedia.org/wiki/NetCDF) file, which is a very common standard for storing and distributing gridded data. It's used throughout the Earth, ocean, and climate sciences and can be read an manipulated with most software platforms. It contains global grids of gravity, topography, and heat flow. All grids were interpolated onto the same resolution of 0.2 degrees (a compromise between resolution and size of the file) so that we can easily compare and use all of the data together.\n",
    "\n",
    "* **Gravity**: generated from the [EIGEN-6C4 spherical harmonic model](https://doi.org/10.5880/icgem.2015.1) through the [ICGEM webservice](http://icgem.gfz-potsdam.de/home). It includes two grids: the gravity disturbance calculated with the WGS84 ellipsoid and the Bouguer gravity disturbance calculated using a topography density of 2670 kg/m³. The data for both grids was generated on top of the Earth's surface (the water surface in the oceans and topography on land).\n",
    "* **Topography and bathymetry**: a downsampled version of [ETOPO1](https://doi.org/10.7289/V5C8276M) and includes a version smoothed using a Gaussian filter with 1 degree width (~100 km).\n",
    "* **Heat flow**: an upsampled version of the compilation by [Lucazeau (2019)](https://doi.org/10.1029/2019GC008389) (originally 0.5 degree resolution).\n",
    "* **Lithosphere age (oceanic)**: a downsampled version of the grid by [Müller et al. (2008)](https://doi.org/10.1029/2007GC001743) (originally 6 arc-minutes)."
   ]
  },
  {
   "cell_type": "markdown",
   "id": "5b2e9047-8053-4826-82ae-7133eaba3aff",
   "metadata": {},
   "source": [
    "## Import the required libraries\n",
    "\n",
    "Load the required software to load the data, make maps, and perform calculations."
   ]
  },
  {
   "cell_type": "code",
   "execution_count": null,
   "id": "0eddd833-84fc-49fb-bfae-5365c7cd03e6",
   "metadata": {},
   "outputs": [],
   "source": [
    "# For arrays and linear algebra\n",
    "import numpy as np\n",
    "# To make figures and maps\n",
    "import matplotlib.pyplot as plt\n",
    "# To load and manipulate grids\n",
    "import xarray as xr"
   ]
  },
  {
   "cell_type": "markdown",
   "id": "93dad088-e395-41d2-8067-54ac863f84b1",
   "metadata": {},
   "source": [
    "## Load the data grids\n",
    "\n",
    "Once again, we'll use xarray to load the data from the netCDF file."
   ]
  },
  {
   "cell_type": "code",
   "execution_count": null,
   "id": "4bbd3344-038a-4360-95b7-d467d540bf1b",
   "metadata": {},
   "outputs": [],
   "source": [
    "data = xr.load_dataset(\"global-geophysical-data.nc\")\n",
    "data"
   ]
  },
  {
   "cell_type": "code",
   "execution_count": null,
   "id": "b9a6d602-8cfd-4719-ade1-1c2262b6f999",
   "metadata": {},
   "outputs": [],
   "source": [
    "data.topography.plot(figsize=(16, 8))"
   ]
  },
  {
   "cell_type": "markdown",
   "id": "0485cf83-f6e9-44f2-81a4-0c24677fa31f",
   "metadata": {},
   "source": [
    "## Extracting a profile \n",
    "\n",
    "The first thing we'll do is extract a profile from our grid. The profile will follow a [great circle](https://en.wikipedia.org/wiki/Great_circle) path (we'll assume that the Earth is a sphere). The trick here is producing the latitude and longitude coordinates of point that are evenly spaced along the profile. This is the problem of finding [way points along a great circle](https://en.wikipedia.org/wiki/Great-circle_navigation#Finding_way-points), which is not trivial but has a well established solution.\n",
    "\n",
    "The function below employs this solution to generate longitude and latitude coordinates for points along a great circle path between start and end points. The links provided in the code explain where the equations come from and why we return `xarray.DataArray`s instead of just the longitude and latitude numpy arrays."
   ]
  },
  {
   "cell_type": "code",
   "execution_count": null,
   "id": "33a2ce5b-7086-4243-a4aa-a805df69d3e4",
   "metadata": {},
   "outputs": [],
   "source": [
    "def profile_points(start, end, npoints):\n",
    "    \"\"\"\n",
    "    Generate the evenly spaced points between start and end.\n",
    "    Both start and end should be (longitude, latitude) pairs.\n",
    "    The profile points follow a great circle.\n",
    "    Returns the longitude and latitude coordinates of each point\n",
    "    in a format that can be used with xarray.\n",
    "    \"\"\"\n",
    "    lon1, lat1 = np.radians(start)\n",
    "    lon2, lat2 = np.radians(end)\n",
    "    # These are needed to calculate the lon/lat coordinates of the profile.\n",
    "    # See https://en.wikipedia.org/wiki/Great-circle_navigation#Finding_way-points\n",
    "    azimuth1 = np.arctan2(\n",
    "        np.cos(lat2) * np.sin(lon2 - lon1),\n",
    "        np.cos(lat1) * np.sin(lat2) - np.sin(lat1) * np.cos(lat2) * np.cos(lon2 - lon1)\n",
    "    )\n",
    "    azimuth_equator = np.arctan2(\n",
    "        np.sin(azimuth1) * np.cos(lat1),\n",
    "        np.sqrt(np.cos(azimuth1) ** 2 + np.sin(azimuth1) ** 2 * np.sin(lat1) ** 2)\n",
    "    )    \n",
    "    great_circle_equator = np.arctan2(np.tan(lat1), np.cos(azimuth1))\n",
    "    lon_equator = lon1 - np.arctan2(\n",
    "        np.sin(azimuth_equator) * np.sin(great_circle_equator),\n",
    "        np.cos(great_circle_equator)\n",
    "    )\n",
    "    # The great-circle distance between start and end (in radians)\n",
    "    # This is the haversine formula: https://en.wikipedia.org/wiki/Haversine_formula\n",
    "    great_circle_distance = 2 * np.arcsin(\n",
    "        np.sqrt(\n",
    "            np.sin((lat2 - lat1) / 2) ** 2 + np.cos(lat1) * np.cos(lat2) * np.sin((lon2 - lon1) / 2) ** 2\n",
    "        )\n",
    "    )\n",
    "    # Generate evenly spaced points along the great circle \n",
    "    distances = np.linspace(start=0, stop=great_circle_distance, num=npoints)\n",
    "    # Make the distances relative to where the great circle cross the equator\n",
    "    # This is needed for the calculations below.\n",
    "    distances_equator = distances + great_circle_equator \n",
    "    # Calculate the lon/lat coordinates of each point given their arc distance\n",
    "    # and the azimuth of the great circle\n",
    "    latitudes = np.arctan2(\n",
    "        np.cos(azimuth_equator) * np.sin(distances_equator),\n",
    "        np.sqrt(np.cos(distances_equator) ** 2 + (np.sin(azimuth_equator) * np.sin(distances_equator)) ** 2)\n",
    "    )\n",
    "    longitudes = lon_equator + np.arctan2(\n",
    "        np.sin(azimuth_equator) * np.sin(distances_equator), \n",
    "        np.cos(distances_equator)\n",
    "    )\n",
    "    # Convert the arc-distances into kilometers\n",
    "    mean_earth_radius = 6_371\n",
    "    distances *= mean_earth_radius\n",
    "    # xarray stuff so we can interpolate values on these coordinates\n",
    "    # see: http://xarray.pydata.org/en/stable/interpolation.html#advanced-interpolation\n",
    "    longitude = xr.DataArray(np.degrees(longitudes), coords={\"distance\": distances}, dims=\"distance\")    \n",
    "    latitude = xr.DataArray(np.degrees(latitudes), coords={\"distance\": distances}, dims=\"distance\")\n",
    "    return longitude, latitude"
   ]
  },
  {
   "cell_type": "markdown",
   "id": "beac5b55-aaf2-465f-ad1f-af8e2cb976e6",
   "metadata": {},
   "source": [
    "We can now use this function to generate point for a profile cutting across the subduction zone close to Japan. "
   ]
  },
  {
   "cell_type": "code",
   "execution_count": null,
   "id": "b6d22678-90a7-49a2-bd67-e0d93d54c8ed",
   "metadata": {},
   "outputs": [],
   "source": [
    "longitudes, latitudes = profile_points(start=(148, 50), end=(155, 35), npoints=300)"
   ]
  },
  {
   "cell_type": "markdown",
   "id": "83fa0d68-3507-4b01-9aec-417e8f9df365",
   "metadata": {},
   "source": [
    "Plot the topography grid and the profile points on a map so we can see where it's located."
   ]
  },
  {
   "cell_type": "code",
   "execution_count": null,
   "id": "113ca2d7-49b8-4420-8a93-7874e7e8a984",
   "metadata": {},
   "outputs": [],
   "source": [
    "# Slice the grid to make it easier to visualize\n",
    "japan = data.sel(longitude=slice(130, 160), latitude=slice(25, 55))"
   ]
  },
  {
   "cell_type": "code",
   "execution_count": null,
   "id": "2571af08-cf1d-4ecb-ab4a-8c75f114cadb",
   "metadata": {},
   "outputs": [],
   "source": [
    "japan.topography.plot(figsize=(8, 8))\n",
    "plt.plot(longitudes, latitudes, \"-k\", linewidth=3)\n",
    "plt.grid()"
   ]
  },
  {
   "cell_type": "markdown",
   "id": "433814eb-a132-489c-b792-3b2775632a3a",
   "metadata": {},
   "source": [
    "The profile goes from the shallow [Sea of Okhotsk](https://en.wikipedia.org/wiki/Sea_of_Okhotsk) between Russia and Japan, across the suduction zone, and into the Pacific. Notice that the sudction zone is fairly straight here and the profile is perpendicular to it. **These are good features since our model assumes that there are no 2D variations in the subduction geometry.**\n",
    "\n",
    "Once we know the longitude and latitude coordinates of the points along the profile, we can interpolate the grid values at these locations."
   ]
  },
  {
   "cell_type": "code",
   "execution_count": null,
   "id": "1bd4de6b-fb76-4f07-b5bc-6476826ddb8f",
   "metadata": {},
   "outputs": [],
   "source": [
    "profile = data.interp(longitude=longitudes, latitude=latitudes)\n",
    "profile"
   ]
  },
  {
   "cell_type": "markdown",
   "id": "12f2aba3-e203-419d-834d-9b3fee39165a",
   "metadata": {},
   "source": [
    "The `profile` includes all of our grid data interpolated onto the profile. It also includes the distance from the starting point along the profile, which makes it easier to make our plots and calculations.\n",
    "\n",
    "Let's plot the topography along the profile to see what we have."
   ]
  },
  {
   "cell_type": "code",
   "execution_count": null,
   "id": "129019de-9827-411f-bba3-907bd5b032f5",
   "metadata": {},
   "outputs": [],
   "source": [
    "plt.figure(figsize=(16, 5))\n",
    "plt.plot(profile.distance, profile.topography)\n",
    "plt.grid()\n",
    "plt.xlabel(\"distance (km)\")\n",
    "plt.ylabel(\"bathymetry (m)\")\n",
    "plt.xlim(profile.distance.min(), profile.distance.max())"
   ]
  },
  {
   "cell_type": "markdown",
   "id": "35f3e2f2-5dcf-4ab3-9d98-7d554f57263d",
   "metadata": {},
   "source": [
    "Our model only includes the subducting plate so we have to crop our profile at the trench. To do so, let's find the distance coordinate for the trench, assuming that it is the deepest point in our profile."
   ]
  },
  {
   "cell_type": "code",
   "execution_count": null,
   "id": "ac1d33bd-d291-4df4-9a50-9d013e3e7dc9",
   "metadata": {},
   "outputs": [],
   "source": [
    "index_trench = profile.topography.argmin()\n",
    "distance_trench = profile.distance[index_trench].values\n",
    "print(distance_trench)"
   ]
  },
  {
   "cell_type": "markdown",
   "id": "5280261f-cff1-4cbf-a5c4-13eeab3e05d1",
   "metadata": {},
   "source": [
    "We can now select only points in our profile that are at greater distances than the trench."
   ]
  },
  {
   "cell_type": "code",
   "execution_count": null,
   "id": "7d0cf37c-8eb1-4a3c-8fc1-5f744899ec3a",
   "metadata": {},
   "outputs": [],
   "source": [
    "# In slice, None stands for \"all the way to the end\"\n",
    "# Like doing array[10:]\n",
    "profile_subducting = profile.sel(distance=slice(distance_trench, None))"
   ]
  },
  {
   "cell_type": "code",
   "execution_count": null,
   "id": "318b69ad-b235-47ee-b38c-bd6a4bce018f",
   "metadata": {},
   "outputs": [],
   "source": [
    "plt.figure(figsize=(16, 5))\n",
    "plt.plot(profile_subducting.distance, profile_subducting.topography)\n",
    "plt.grid()\n",
    "plt.xlabel(\"distance (km)\")\n",
    "plt.ylabel(\"bathymetry (m)\")\n",
    "plt.xlim(profile_subducting.distance.min(), profile_subducting.distance.max())"
   ]
  },
  {
   "cell_type": "markdown",
   "id": "a968c698-d3b1-45c1-bb41-47802fe26755",
   "metadata": {},
   "source": [
    "This figure now looks like our sketch at the start of the notebook. You can clearly spot:\n",
    "\n",
    "1. The place where the deflection is zero and the plate tends to a particular depth (on the right)\n",
    "2. The forebulge to the right of the trench\n",
    "\n",
    "Now we need to implement our flexure model and see if we can match these observations."
   ]
  },
  {
   "cell_type": "markdown",
   "id": "8be4473c-f7ae-4b3a-b057-84a09669c076",
   "metadata": {},
   "source": [
    "## Calculating the flexure\n",
    "\n",
    "Let's write a function that calculates the flexure equation:\n",
    "\n",
    "$$\n",
    "w(x) = w_b\\ e^{\\pi/4} \\sqrt{2}\n",
    "\\exp\\left( -\\dfrac{\\pi}{4}\\left(\\dfrac{x - x_0}{x_b - x_0}\\right) \\right)\n",
    "\\sin\\left(\\dfrac{\\pi}{4}\\left(\\dfrac{x - x_0}{x_b - x_0}\\right) \\right)\n",
    "$$\n",
    "\n",
    "It's inputs will be (all in kilometers):\n",
    "\n",
    "* The distance along the profile ($x$)\n",
    "* The distance at which the deflection cross the zero line ($x_0$)\n",
    "* The distance at which the forebulge peaks ($x_b$)\n",
    "* The highest amplitude of the forebulge ($w_b$)\n",
    "\n",
    "The function will return the predicted deflection $w$ in meters."
   ]
  },
  {
   "cell_type": "code",
   "execution_count": null,
   "id": "4dc86946-6c34-440f-9df6-7a2d3a86703b",
   "metadata": {},
   "outputs": [],
   "source": [
    "def flexure_end_load(x, zero_crossing, forebulge_peak, forebulge_amplitude):\n",
    "    \"\"\"\n",
    "    Calculate the flexure of a plate under an end load.\n",
    "    Inputs should be in km. The output will be in meters.\n",
    "    \"\"\"\n",
    "    aux = (np.pi / 4) * (x - zero_crossing) / (forebulge_peak - zero_crossing)\n",
    "    deflection = (\n",
    "        forebulge_amplitude\n",
    "        * np.exp(np.pi / 4) \n",
    "        * np.sqrt(2) \n",
    "        * np.exp(-aux)\n",
    "        * np.sin(aux)\n",
    "    )\n",
    "    # Convert to meters\n",
    "    return 1000 * deflection"
   ]
  },
  {
   "cell_type": "markdown",
   "id": "ffb249ac-44af-4c69-8560-64992da40894",
   "metadata": {},
   "source": [
    "Let's calculate the deflection based on input values derived visually from the profile."
   ]
  },
  {
   "cell_type": "code",
   "execution_count": null,
   "id": "bf8433ab-8884-4b48-a130-fe02dc486b6a",
   "metadata": {},
   "outputs": [],
   "source": [
    "deflection = flexure_end_load(\n",
    "    x=profile_subducting.distance,\n",
    "    zero_crossing=730,\n",
    "    forebulge_peak=800,\n",
    "    forebulge_amplitude=0.7,\n",
    ")"
   ]
  },
  {
   "cell_type": "code",
   "execution_count": null,
   "id": "3de25b78-ebe0-4e65-8c9e-0c97517b74d5",
   "metadata": {},
   "outputs": [],
   "source": [
    "plt.figure(figsize=(16, 5))\n",
    "plt.plot(profile_subducting.distance, deflection)\n",
    "plt.grid()\n",
    "plt.xlabel(\"distance (km)\")\n",
    "plt.ylabel(\"bathymetry (m)\")\n",
    "plt.xlim(profile_subducting.distance.min(), profile_subducting.distance.max())"
   ]
  },
  {
   "cell_type": "markdown",
   "id": "13bc9d40-f03a-48f4-8d20-ba6894beeed1",
   "metadata": {},
   "source": [
    "Note that this is **not the bathymetry** but the amount of deflection suffered by the bathymetry. To actually arrive at bathymetry, we have to add the depth of the non-deflected bathymetry (the mean value at the right of the profile). "
   ]
  },
  {
   "cell_type": "code",
   "execution_count": null,
   "id": "923fc876-35e9-4122-bd89-8e6fd7c559df",
   "metadata": {},
   "outputs": [],
   "source": [
    "predicted_bathymetry = -5700 + deflection"
   ]
  },
  {
   "cell_type": "code",
   "execution_count": null,
   "id": "f286e07d-fdf6-4f97-9134-69bf2d20358d",
   "metadata": {},
   "outputs": [],
   "source": [
    "plt.figure(figsize=(16, 5))\n",
    "plt.plot(profile_subducting.distance, profile_subducting.topography)\n",
    "plt.plot(profile_subducting.distance, predicted_bathymetry)\n",
    "plt.grid()\n",
    "plt.xlabel(\"distance (km)\")\n",
    "plt.ylabel(\"bathymetry (m)\")\n",
    "plt.xlim(profile_subducting.distance.min(), profile_subducting.distance.max())"
   ]
  },
  {
   "cell_type": "markdown",
   "id": "dcb85222-7df3-4a2b-8cc7-18d450c9f390",
   "metadata": {},
   "source": [
    "With the values used in the model, we can actually fit the bathymetry data pretty well. The 3 geometric parameters can also tell us about the flexural rigidity and effective elastic thickness of the lithosphere. Both are important physical parameters for modelling the behaviour of plates (see the Geodynamics book for the equations)."
   ]
  },
  {
   "cell_type": "markdown",
   "id": "ad5abcfa-b4ba-467e-9e36-b28455650ced",
   "metadata": {},
   "source": [
    "## Predicting gravity\n",
    "\n",
    "With the deflection that we just calculated, we can predict the gravity disturbance caused by it using the Bouguer plate approximation $g \\approx 2 \\pi G \\Delta\\rho h$. The thickness of the Bouguer plate $h$ is the absolute value of the deflection $w$ and the density contrast will be determined by the figure below.\n",
    "\n",
    "<img style=\"width: 500px; margin: 10px auto;\" src=\"https://github.com/leouieda/lithosphere/raw/77a1da95fe7fcd65528bd8e30bbdcea949f5c3c7/lectures/assets/disturbance-subduction-model.svg\">\n",
    "<p style=\"text-align: left; width: 500px; max-width: 100%; margin: 30px auto;\">\n",
    "Figure caption: Model of the density anomalies causing the observed gravity disturbance due to subduction.\n",
    "</p>\n",
    "\n",
    "The predicted gravity disturbance will be the sum of the effect of the top and bottom density anomalies. If we add the two Bouguer plate values, we can arrive at:\n",
    "\n",
    "* $\\Delta\\rho = \\rho_m - \\rho_w$ for $w > 0$\n",
    "* $\\Delta\\rho = \\rho_w - \\rho_m$ for $w < 0$\n",
    "\n",
    "So in the end, the density of the crust doesn't come into the calculations. \n",
    "\n"
   ]
  },
  {
   "cell_type": "markdown",
   "id": "22130b56-e986-407b-b7c3-bff6e7642488",
   "metadata": {},
   "source": [
    "Let's make a function that predicts gravity disturbances given the deflection and the densities of water and mantle. The value returned will be in mGal and all inputs in SI (meters and kg/m³)."
   ]
  },
  {
   "cell_type": "code",
   "execution_count": null,
   "id": "9dd4ab8a-80dd-484a-b73e-95fcf2fc0849",
   "metadata": {},
   "outputs": [],
   "source": [
    "def gravity_flexure(deflection, density_water, density_mantle):\n",
    "    \"\"\"\n",
    "    Predict the gravity disturbance due the flexure of the lithosphere from subducction.\n",
    "    \"\"\"\n",
    "    G = 6.67430e-11\n",
    "    density_contrast = xr.where(\n",
    "        deflection >= 0,\n",
    "        density_mantle - density_water,\n",
    "        density_water - density_mantle,\n",
    "    )\n",
    "    # 10^5 converts from m/s² to mGal\n",
    "    disturbance = 1e5 * 2 * np.pi * G * density_contrast * np.abs(deflection)\n",
    "    return disturbance"
   ]
  },
  {
   "cell_type": "markdown",
   "id": "a0d1783d-09b4-419b-a2e7-fa32560179ff",
   "metadata": {},
   "source": [
    "Now predict the gravity disturbance assuming $\\rho_w = 1000\\ kg/m^3$ and  $\\rho_m = 3300\\ kg/m^3$."
   ]
  },
  {
   "cell_type": "code",
   "execution_count": null,
   "id": "290d1ff7-cc8b-4fb9-b066-ce4a0da86cbb",
   "metadata": {},
   "outputs": [],
   "source": [
    "predicted_gravity = gravity_flexure(deflection, density_water=1000, density_mantle=3300)"
   ]
  },
  {
   "cell_type": "code",
   "execution_count": null,
   "id": "404879ed-0a08-4286-b4b1-360792cdad6b",
   "metadata": {},
   "outputs": [],
   "source": [
    "plt.figure(figsize=(16, 5))\n",
    "plt.plot(profile_subducting.distance, profile_subducting.gravity_disturbance)\n",
    "plt.plot(profile_subducting.distance, predicted_gravity)\n",
    "plt.grid()\n",
    "plt.xlabel(\"distance (km)\")\n",
    "plt.ylabel(\"gravity disturbance (mGal)\")\n",
    "plt.xlim(profile_subducting.distance.min(), profile_subducting.distance.max())"
   ]
  },
  {
   "cell_type": "markdown",
   "id": "a5ec61a8-7ea9-4059-96f4-4129d811cdf7",
   "metadata": {},
   "source": [
    "The fit is also very good, which indicates that our simple model with an oceanic crust of uniform density and thickness is a reasonable approximation for reality. "
   ]
  },
  {
   "cell_type": "markdown",
   "id": "97d31070-3bc7-49f0-8487-799c0fbf2020",
   "metadata": {},
   "source": [
    "---\n",
    "\n",
    "## **Your turn!**\n",
    "\n",
    "In groups:\n",
    "\n",
    "1. Select one or more profiles at different locations:\n",
    "    * This could be a different part of the Japan subction or a different subduction zone entirely. \n",
    "    * Aim for places that may not be as uniform as the profile we used, which has a pretty straight subduction geometry. \n",
    "    * It helps if you determine a region first, then extract a subsection of the grid and plot it to pick the coordinates for the start and end of the profile.\n",
    "1. Try to fit both bathymetry and gravity using the functions we generated above. \n",
    "    * Notice that the values of $x_0$ and $x_b$ change the wavelength of the forebulge while $w_b$ only changes the amplitude.\n",
    "1. Discuss:\n",
    "    * **Why** the model is/isn't able to fit the data\n",
    "    * What that can tell us about the subduction zone\n",
    "1. Share your plots and main discussion points with the class."
   ]
  },
  {
   "cell_type": "code",
   "execution_count": null,
   "id": "64a9f277-bef1-4f50-8b16-e61f91de88ae",
   "metadata": {},
   "outputs": [],
   "source": []
  },
  {
   "cell_type": "code",
   "execution_count": null,
   "id": "b0e25282-3830-4446-b97b-acf28443c509",
   "metadata": {},
   "outputs": [],
   "source": []
  },
  {
   "cell_type": "code",
   "execution_count": null,
   "id": "1fb729a8-5df6-476c-8e9c-8e61440b2dab",
   "metadata": {},
   "outputs": [],
   "source": []
  },
  {
   "cell_type": "code",
   "execution_count": null,
   "id": "8352e7f5-c160-483c-9dab-e48c5a3ecd4f",
   "metadata": {},
   "outputs": [],
   "source": []
  },
  {
   "cell_type": "code",
   "execution_count": null,
   "id": "de989a3a-06ec-482d-8769-edb0ab2c3dfb",
   "metadata": {},
   "outputs": [],
   "source": []
  },
  {
   "cell_type": "code",
   "execution_count": null,
   "id": "b8d4b426-7826-4ecc-acf7-3e04d8223dfb",
   "metadata": {},
   "outputs": [],
   "source": []
  },
  {
   "cell_type": "code",
   "execution_count": null,
   "id": "80ccab61-7b9e-42bb-a0e7-39241d00991a",
   "metadata": {},
   "outputs": [],
   "source": []
  },
  {
   "cell_type": "code",
   "execution_count": null,
   "id": "0257dd0d-9b8e-4d43-91f8-a56887afba8a",
   "metadata": {},
   "outputs": [],
   "source": []
  }
 ],
 "metadata": {
  "kernelspec": {
   "display_name": "Python [conda env:lithosphere]",
   "language": "python",
   "name": "conda-env-lithosphere-py"
  },
  "language_info": {
   "codemirror_mode": {
    "name": "ipython",
    "version": 3
   },
   "file_extension": ".py",
   "mimetype": "text/x-python",
   "name": "python",
   "nbconvert_exporter": "python",
   "pygments_lexer": "ipython3",
   "version": "3.8.0"
  }
 },
 "nbformat": 4,
 "nbformat_minor": 5
}
