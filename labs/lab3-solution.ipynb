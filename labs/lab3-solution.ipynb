{
 "cells": [
  {
   "cell_type": "markdown",
   "metadata": {},
   "source": [
    "# Lab 3: Cooling models of the oceanic lithosphere\n",
    "\n",
    "In this lab, we will calculate the bathymetry of the oceans predicted by two conductive cooling models of the oceanic lithosphere: the half-space model and the plate model. To assess model predictions, we'll use bathymetry data from [ETOPO1](https://doi.org/10.7289/V5C8276M) and age of the oceanic lithosphere data from [Müller et al. (2008)](https://doi.org/10.1029/2007GC001743).\n",
    "\n",
    "Learning objectives:\n",
    "\n",
    "* Expand on the theorical knowledge acquired in [Lecture 3](https://www.leouieda.com/envs398/slides/3-oceanic-lithosphere/).\n",
    "* Apply the principles of isostatic equilibrium to estimate bathymetry from cooling models.\n",
    "* Convert the theoretical knowledge into computations that can be used to model real data.\n",
    "\n",
    "## General instructions\n",
    "\n",
    "This is a [Jupyter notebook](https://jupyter.org/) running in [Jupyter Lab](https://jupyterlab.readthedocs.io/en/stable/). The notebook is a programming environment that mixes code (the parts with `[1]: ` or similar next to them) and formatted text/images/equations with [Markdown](https://www.markdownguide.org/basic-syntax) (like this part right here).\n",
    "\n",
    "Quick start guide:\n",
    "\n",
    "* **Edit** any cell (blocks of code or text) by double clicking on it.\n",
    "* **Execute** a code or Markdown cell by typing `Shift + Enter` after selecting it.\n",
    "* The current active cell is the one with a **blue bar next to it**.\n",
    "* You can run cells **in any order** as long as the code sequence makes sense (it's best to go top-to-bottom, though).\n",
    "* To copy any file to the current directory, drag and drop it to the file browser on the left side.\n",
    "* Notebook files have the extension `.ipynb`."
   ]
  },
  {
   "cell_type": "markdown",
   "metadata": {},
   "source": [
    "## Import things\n",
    "\n",
    "As before, the first thing to do is load the Python libraries that we'll be using. We'll group all our imports here at the top to make it easier to see what we're using."
   ]
  },
  {
   "cell_type": "code",
   "execution_count": 15,
   "metadata": {},
   "outputs": [],
   "source": [
    "# The base of the entire scientific Python stack\n",
    "import numpy as np\n",
    "# Scipy defines a bunch of scientific goodness on top of numpy\n",
    "import scipy.integrate\n",
    "import scipy.special\n",
    "# For making plots and figures\n",
    "import matplotlib.pyplot as plt\n",
    "# To load and operate on data tables\n",
    "import pandas as pd"
   ]
  },
  {
   "cell_type": "markdown",
   "metadata": {},
   "source": [
    "## Load the data\n",
    "\n",
    "The data that we will try to fit with our cooling models are in [CSV](https://en.wikipedia.org/wiki/Comma-separated_values) files in the `data` folder. We'll use `pandas` to load them below."
   ]
  },
  {
   "cell_type": "code",
   "execution_count": 2,
   "metadata": {},
   "outputs": [
    {
     "data": {
      "text/html": [
       "<div>\n",
       "<style scoped>\n",
       "    .dataframe tbody tr th:only-of-type {\n",
       "        vertical-align: middle;\n",
       "    }\n",
       "\n",
       "    .dataframe tbody tr th {\n",
       "        vertical-align: top;\n",
       "    }\n",
       "\n",
       "    .dataframe thead th {\n",
       "        text-align: right;\n",
       "    }\n",
       "</style>\n",
       "<table border=\"1\" class=\"dataframe\">\n",
       "  <thead>\n",
       "    <tr style=\"text-align: right;\">\n",
       "      <th></th>\n",
       "      <th>longitude</th>\n",
       "      <th>latitude</th>\n",
       "      <th>age_myr</th>\n",
       "      <th>bathymetry_m</th>\n",
       "    </tr>\n",
       "  </thead>\n",
       "  <tbody>\n",
       "    <tr>\n",
       "      <th>0</th>\n",
       "      <td>-24.75</td>\n",
       "      <td>-29.75</td>\n",
       "      <td>54.125000</td>\n",
       "      <td>-5094.5</td>\n",
       "    </tr>\n",
       "    <tr>\n",
       "      <th>1</th>\n",
       "      <td>-24.25</td>\n",
       "      <td>-29.75</td>\n",
       "      <td>50.125000</td>\n",
       "      <td>-4838.5</td>\n",
       "    </tr>\n",
       "    <tr>\n",
       "      <th>2</th>\n",
       "      <td>-23.75</td>\n",
       "      <td>-29.75</td>\n",
       "      <td>46.995003</td>\n",
       "      <td>-4732.0</td>\n",
       "    </tr>\n",
       "    <tr>\n",
       "      <th>3</th>\n",
       "      <td>-23.25</td>\n",
       "      <td>-29.75</td>\n",
       "      <td>45.165000</td>\n",
       "      <td>-4473.0</td>\n",
       "    </tr>\n",
       "    <tr>\n",
       "      <th>4</th>\n",
       "      <td>-22.75</td>\n",
       "      <td>-29.75</td>\n",
       "      <td>43.210000</td>\n",
       "      <td>-4477.0</td>\n",
       "    </tr>\n",
       "    <tr>\n",
       "      <th>...</th>\n",
       "      <td>...</td>\n",
       "      <td>...</td>\n",
       "      <td>...</td>\n",
       "      <td>...</td>\n",
       "    </tr>\n",
       "    <tr>\n",
       "      <th>2995</th>\n",
       "      <td>-2.25</td>\n",
       "      <td>-0.25</td>\n",
       "      <td>57.670000</td>\n",
       "      <td>-5074.0</td>\n",
       "    </tr>\n",
       "    <tr>\n",
       "      <th>2996</th>\n",
       "      <td>-1.75</td>\n",
       "      <td>-0.25</td>\n",
       "      <td>60.945000</td>\n",
       "      <td>-5029.0</td>\n",
       "    </tr>\n",
       "    <tr>\n",
       "      <th>2997</th>\n",
       "      <td>-1.25</td>\n",
       "      <td>-0.25</td>\n",
       "      <td>63.720000</td>\n",
       "      <td>-4984.0</td>\n",
       "    </tr>\n",
       "    <tr>\n",
       "      <th>2998</th>\n",
       "      <td>-0.75</td>\n",
       "      <td>-0.25</td>\n",
       "      <td>66.619995</td>\n",
       "      <td>-4964.0</td>\n",
       "    </tr>\n",
       "    <tr>\n",
       "      <th>2999</th>\n",
       "      <td>-0.25</td>\n",
       "      <td>-0.25</td>\n",
       "      <td>69.015000</td>\n",
       "      <td>-4927.0</td>\n",
       "    </tr>\n",
       "  </tbody>\n",
       "</table>\n",
       "<p>3000 rows × 4 columns</p>\n",
       "</div>"
      ],
      "text/plain": [
       "      longitude  latitude    age_myr  bathymetry_m\n",
       "0        -24.75    -29.75  54.125000       -5094.5\n",
       "1        -24.25    -29.75  50.125000       -4838.5\n",
       "2        -23.75    -29.75  46.995003       -4732.0\n",
       "3        -23.25    -29.75  45.165000       -4473.0\n",
       "4        -22.75    -29.75  43.210000       -4477.0\n",
       "...         ...       ...        ...           ...\n",
       "2995      -2.25     -0.25  57.670000       -5074.0\n",
       "2996      -1.75     -0.25  60.945000       -5029.0\n",
       "2997      -1.25     -0.25  63.720000       -4984.0\n",
       "2998      -0.75     -0.25  66.619995       -4964.0\n",
       "2999      -0.25     -0.25  69.015000       -4927.0\n",
       "\n",
       "[3000 rows x 4 columns]"
      ]
     },
     "execution_count": 2,
     "metadata": {},
     "output_type": "execute_result"
    }
   ],
   "source": [
    "atlantic = pd.read_csv(\"../data/atlantic-bathymetry-age.csv\")\n",
    "atlantic"
   ]
  },
  {
   "cell_type": "code",
   "execution_count": 3,
   "metadata": {},
   "outputs": [
    {
     "data": {
      "text/html": [
       "<div>\n",
       "<style scoped>\n",
       "    .dataframe tbody tr th:only-of-type {\n",
       "        vertical-align: middle;\n",
       "    }\n",
       "\n",
       "    .dataframe tbody tr th {\n",
       "        vertical-align: top;\n",
       "    }\n",
       "\n",
       "    .dataframe thead th {\n",
       "        text-align: right;\n",
       "    }\n",
       "</style>\n",
       "<table border=\"1\" class=\"dataframe\">\n",
       "  <thead>\n",
       "    <tr style=\"text-align: right;\">\n",
       "      <th></th>\n",
       "      <th>longitude</th>\n",
       "      <th>latitude</th>\n",
       "      <th>age_myr</th>\n",
       "      <th>bathymetry_m</th>\n",
       "    </tr>\n",
       "  </thead>\n",
       "  <tbody>\n",
       "    <tr>\n",
       "      <th>0</th>\n",
       "      <td>-144.650538</td>\n",
       "      <td>-49.655172</td>\n",
       "      <td>58.02</td>\n",
       "      <td>-4630.0</td>\n",
       "    </tr>\n",
       "    <tr>\n",
       "      <th>1</th>\n",
       "      <td>-143.951613</td>\n",
       "      <td>-49.655172</td>\n",
       "      <td>57.54</td>\n",
       "      <td>-4648.0</td>\n",
       "    </tr>\n",
       "    <tr>\n",
       "      <th>2</th>\n",
       "      <td>-143.252688</td>\n",
       "      <td>-49.655172</td>\n",
       "      <td>56.98</td>\n",
       "      <td>-4503.5</td>\n",
       "    </tr>\n",
       "    <tr>\n",
       "      <th>3</th>\n",
       "      <td>-142.553763</td>\n",
       "      <td>-49.655172</td>\n",
       "      <td>56.46</td>\n",
       "      <td>-4539.0</td>\n",
       "    </tr>\n",
       "    <tr>\n",
       "      <th>4</th>\n",
       "      <td>-141.854839</td>\n",
       "      <td>-49.655172</td>\n",
       "      <td>55.65</td>\n",
       "      <td>-4605.5</td>\n",
       "    </tr>\n",
       "    <tr>\n",
       "      <th>...</th>\n",
       "      <td>...</td>\n",
       "      <td>...</td>\n",
       "      <td>...</td>\n",
       "      <td>...</td>\n",
       "    </tr>\n",
       "    <tr>\n",
       "      <th>2692</th>\n",
       "      <td>-83.145161</td>\n",
       "      <td>-30.344828</td>\n",
       "      <td>29.50</td>\n",
       "      <td>-3886.0</td>\n",
       "    </tr>\n",
       "    <tr>\n",
       "      <th>2693</th>\n",
       "      <td>-82.446237</td>\n",
       "      <td>-30.344828</td>\n",
       "      <td>30.35</td>\n",
       "      <td>-3957.5</td>\n",
       "    </tr>\n",
       "    <tr>\n",
       "      <th>2694</th>\n",
       "      <td>-81.747312</td>\n",
       "      <td>-30.344828</td>\n",
       "      <td>31.18</td>\n",
       "      <td>-3981.0</td>\n",
       "    </tr>\n",
       "    <tr>\n",
       "      <th>2695</th>\n",
       "      <td>-81.048387</td>\n",
       "      <td>-30.344828</td>\n",
       "      <td>31.99</td>\n",
       "      <td>-4049.5</td>\n",
       "    </tr>\n",
       "    <tr>\n",
       "      <th>2696</th>\n",
       "      <td>-80.349462</td>\n",
       "      <td>-30.344828</td>\n",
       "      <td>32.77</td>\n",
       "      <td>-3912.0</td>\n",
       "    </tr>\n",
       "  </tbody>\n",
       "</table>\n",
       "<p>2697 rows × 4 columns</p>\n",
       "</div>"
      ],
      "text/plain": [
       "       longitude   latitude  age_myr  bathymetry_m\n",
       "0    -144.650538 -49.655172    58.02       -4630.0\n",
       "1    -143.951613 -49.655172    57.54       -4648.0\n",
       "2    -143.252688 -49.655172    56.98       -4503.5\n",
       "3    -142.553763 -49.655172    56.46       -4539.0\n",
       "4    -141.854839 -49.655172    55.65       -4605.5\n",
       "...          ...        ...      ...           ...\n",
       "2692  -83.145161 -30.344828    29.50       -3886.0\n",
       "2693  -82.446237 -30.344828    30.35       -3957.5\n",
       "2694  -81.747312 -30.344828    31.18       -3981.0\n",
       "2695  -81.048387 -30.344828    31.99       -4049.5\n",
       "2696  -80.349462 -30.344828    32.77       -3912.0\n",
       "\n",
       "[2697 rows x 4 columns]"
      ]
     },
     "execution_count": 3,
     "metadata": {},
     "output_type": "execute_result"
    }
   ],
   "source": [
    "pacific = pd.read_csv(\"../data/pacific-bathymetry-age.csv\")\n",
    "pacific"
   ]
  },
  {
   "cell_type": "markdown",
   "metadata": {},
   "source": [
    "Both data sets contain the coordinates of the data points and their associated age (in million years) and bathymetry (in meters). We'll plot below the age versus bathymetry to see the relationship that our models will have to fit."
   ]
  },
  {
   "cell_type": "code",
   "execution_count": 11,
   "metadata": {},
   "outputs": [
    {
     "data": {
      "image/png": "[encoded data removed]",
      "text/plain": [
       "<Figure size 504x432 with 1 Axes>"
      ]
     },
     "metadata": {
      "needs_background": "light"
     },
     "output_type": "display_data"
    }
   ],
   "source": [
    "plt.figure(figsize=(7, 6))\n",
    "plt.title(\"Atlantic\")\n",
    "plt.plot(atlantic.age_myr, atlantic.bathymetry_m, \".k\", markersize=2)\n",
    "plt.xlabel(\"age [Myr]\")\n",
    "plt.ylabel(\"bathymetry [m]\")\n",
    "plt.show()"
   ]
  },
  {
   "cell_type": "markdown",
   "metadata": {},
   "source": [
    "----\n",
    "\n",
    "### YOUR TURN\n",
    "\n",
    "Make a similar plot for the Pacific dataset below."
   ]
  },
  {
   "cell_type": "code",
   "execution_count": 12,
   "metadata": {},
   "outputs": [
    {
     "data": {
      "image/png": "[encoded data removed]",
      "text/plain": [
       "<Figure size 504x432 with 1 Axes>"
      ]
     },
     "metadata": {
      "needs_background": "light"
     },
     "output_type": "display_data"
    }
   ],
   "source": [
    "plt.figure(figsize=(7, 6))\n",
    "plt.title(\"Pacific\")\n",
    "plt.plot(pacific.age_myr, pacific.bathymetry_m, \".k\", markersize=2)\n",
    "plt.xlabel(\"age [Myr]\")\n",
    "plt.ylabel(\"bathymetry [m]\")\n",
    "plt.show()"
   ]
  },
  {
   "cell_type": "markdown",
   "metadata": {},
   "source": [
    "\n",
    "----"
   ]
  },
  {
   "cell_type": "markdown",
   "metadata": {},
   "source": [
    "## Predicting bathymetry from half-space cooling\n",
    "\n"
   ]
  },
  {
   "cell_type": "code",
   "execution_count": null,
   "metadata": {},
   "outputs": [],
   "source": []
  },
  {
   "cell_type": "code",
   "execution_count": null,
   "metadata": {},
   "outputs": [],
   "source": []
  },
  {
   "cell_type": "markdown",
   "metadata": {},
   "source": [
    "### Calculating error functions\n",
    "\n",
    "The `scipy.special` module has several useful mathematical functions, like [Bessel functions](https://en.wikipedia.org/wiki/Bessel_function) and the [error function](https://en.wikipedia.org/wiki/Error_function). To calculate the complementary error function $\\text{erfc}$, we can use `scipy.special.erfc`. As an example, here is the $\\text{erfc}$ function calculated between $[-5, 5]$."
   ]
  },
  {
   "cell_type": "code",
   "execution_count": 22,
   "metadata": {},
   "outputs": [],
   "source": [
    "x = np.linspace(-5, 5, 100)\n",
    "y = scipy.special.erfc(x)"
   ]
  },
  {
   "cell_type": "code",
   "execution_count": 25,
   "metadata": {},
   "outputs": [
    {
     "data": {
      "image/png": "[encoded data removed]",
      "text/plain": [
       "<Figure size 432x288 with 1 Axes>"
      ]
     },
     "metadata": {
      "needs_background": "light"
     },
     "output_type": "display_data"
    }
   ],
   "source": [
    "plt.figure()\n",
    "plt.title(\"Complementary error function\")\n",
    "plt.plot(x, y)\n",
    "plt.grid()\n",
    "plt.show()"
   ]
  },
  {
   "cell_type": "markdown",
   "metadata": {},
   "source": [
    "### Solving integrals in Python\n",
    "\n",
    "Scipy also has the `scipy.integrate` module which offers numerical integration functions. To solve an integral over a single variable, we'll use the `scipy.integrate.quad` function. This function takes as arguments the integration limits and a Python function that implements the mathematical function we wish to integrate. \n",
    "\n",
    "For example, to solve the following integral:\n",
    "\n",
    "$$ \\int\\limits_0^{3} x^2 dx = y $$\n",
    "\n",
    "If you remember your basic calculus, you should be able to figure out that this integral should be equal to 9. \n",
    "\n",
    "To solve it with Python, we have to first define a function $f(x) = x^2$ that we wish to integrate."
   ]
  },
  {
   "cell_type": "code",
   "execution_count": 26,
   "metadata": {},
   "outputs": [],
   "source": [
    "def integrand(x):\n",
    "    \"Function that will be integrated\"\n",
    "    result = x**2\n",
    "    return result"
   ]
  },
  {
   "cell_type": "markdown",
   "metadata": {},
   "source": [
    "Now we can integrate it using `scipy.integrate.quad` like so:"
   ]
  },
  {
   "cell_type": "code",
   "execution_count": 29,
   "metadata": {},
   "outputs": [
    {
     "name": "stdout",
     "output_type": "stream",
     "text": [
      "9.000000000000002 9.992007221626411e-14\n"
     ]
    }
   ],
   "source": [
    "integral, accuracy = scipy.integrate.quad(integrand, 0, 3)\n",
    "print(integral, accuracy)"
   ]
  },
  {
   "cell_type": "markdown",
   "metadata": {},
   "source": [
    "The `quad` function returns the integral and the estimated accuracy of the solution."
   ]
  },
  {
   "cell_type": "markdown",
   "metadata": {},
   "source": [
    "### Solving the bathymetry equation\n",
    "\n",
    "Now we can put together the parts we saw above to calculate the bathymetry predictions for the half-space model:\n",
    "\n",
    "$$ w(t) = w_r + \\dfrac{\\rho_a \\alpha_V (T_a - T_0)}{\\rho_a - \\rho_w} \\int\\limits_0^L \\text{erfc}\\left(\\dfrac{z}{2\\sqrt{\\alpha t}}\\right)dz $$\n",
    "\n",
    "The input parameters will be $w_r$, $\\rho_w$, $\\rho_a$, $\\alpha_V$, $\\alpha$, $\\T_a$"
   ]
  },
  {
   "cell_type": "code",
   "execution_count": null,
   "metadata": {},
   "outputs": [],
   "source": [
    "def bathymetry_halfspace(age, ridge_depth, density_mantle, density_water, )"
   ]
  }
 ],
 "metadata": {
  "kernelspec": {
   "display_name": "Python [conda env:envs398]",
   "language": "python",
   "name": "conda-env-envs398-py"
  },
  "language_info": {
   "codemirror_mode": {
    "name": "ipython",
    "version": 3
   },
   "file_extension": ".py",
   "mimetype": "text/x-python",
   "name": "python",
   "nbconvert_exporter": "python",
   "pygments_lexer": "ipython3",
   "version": "3.8.0"
  }
 },
 "nbformat": 4,
 "nbformat_minor": 4
}
